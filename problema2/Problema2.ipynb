{
 "cells": [
  {
   "cell_type": "markdown",
   "metadata": {},
   "source": [
    "# 2. CNNs en Google Street View "
   ]
  },
  {
   "cell_type": "markdown",
   "metadata": {},
   "source": [
    "** 2.0 Importación de módulos necesarios **"
   ]
  },
  {
   "cell_type": "code",
   "execution_count": 15,
   "metadata": {
    "collapsed": true
   },
   "outputs": [],
   "source": [
    "import scipy.io as sio\n",
    "import numpy as np\n",
    "from keras.utils import np_utils\n",
    "from keras.models import Sequential\n",
    "from keras.layers.core import Dense, Dropout, Activation, Flatten\n",
    "from keras.layers.convolutional import Conv2D, MaxPooling2D, AveragePooling2D\n",
    "from keras.optimizers import SGD, Adadelta, Adagrad, Adam\n",
    "from keras import backend\n",
    "from sklearn.metrics import confusion_matrix\n",
    "import math\n",
    "import random\n",
    "import matplotlib.pyplot as plt"
   ]
  },
  {
   "cell_type": "markdown",
   "metadata": {},
   "source": [
    "**2.1 Construcción de conjuntos de datos**"
   ]
  },
  {
   "cell_type": "markdown",
   "metadata": {},
   "source": [
    "A partir de los archivos disponibles en formato Matlab, se construyen los conjuntos de entrenamiento y de prueba, separando los atributos predictores del atributo a predecir en primer lugar, para luego almacenarlos en matrices."
   ]
  },
  {
   "cell_type": "code",
   "execution_count": 16,
   "metadata": {
    "collapsed": true
   },
   "outputs": [],
   "source": [
    "# Se cargan datos de entrenamiento\n",
    "train_data = sio.loadmat('train_32x32.mat')\n",
    "# Se cargan datos de prueba\n",
    "test_data = sio.loadmat('test_32x32.mat')\n",
    "\n",
    "# Se crea conjunto de entrenamiento con atributos predictores\n",
    "X_train = train_data['X'].T.astype('float32')\n",
    "# Se crea conjunto de entrenamiento con atributo a predecir\n",
    "y_train = train_data['y'] - 1\n",
    "\n",
    "# Se crea conjunto de prueba con atributos predictores\n",
    "X_test = test_data['X'].T.astype('float32')\n",
    "# Se crea conjunto de prueba con atributo a predecir\n",
    "y_test = test_data['y'] - 1"
   ]
  },
  {
   "cell_type": "markdown",
   "metadata": {},
   "source": [
    "A continuación, se determinan las dimensiones de las imágenes."
   ]
  },
  {
   "cell_type": "code",
   "execution_count": 17,
   "metadata": {},
   "outputs": [
    {
     "data": {
      "text/plain": [
       "(73257, 3, 32, 32)"
      ]
     },
     "execution_count": 17,
     "metadata": {},
     "output_type": "execute_result"
    }
   ],
   "source": [
    "# Se determinan dimensiones y cantidad de ejemplos en conjunto de entrenamiento\n",
    "n_channels = X_train.shape[1]\n",
    "n_rows = X_train.shape[2]\n",
    "n_cols = X_train.shape[3]\n",
    "X_train.shape"
   ]
  },
  {
   "cell_type": "code",
   "execution_count": 18,
   "metadata": {},
   "outputs": [
    {
     "data": {
      "text/plain": [
       "(26032, 3, 32, 32)"
      ]
     },
     "execution_count": 18,
     "metadata": {},
     "output_type": "execute_result"
    }
   ],
   "source": [
    "# Se determinan dimensiones y cantidad de ejemplos en conjunto de prueba\n",
    "X_test.shape"
   ]
  },
  {
   "cell_type": "markdown",
   "metadata": {},
   "source": [
    "Los comandos anteriores muestran que se está trabajando con imágenes de 3 canales de 32 x 32. Además, el conjunto de entrenamiento está constituído por 73.257 ejemplos, mientras que el conjunto de pruebas está integrado por 26.032 ejemplos.\n",
    "\n",
    "Por otra parte, el siguiente comando permite determinar la cantidad de clases diferentes que existen en el problema."
   ]
  },
  {
   "cell_type": "code",
   "execution_count": 19,
   "metadata": {},
   "outputs": [
    {
     "name": "stdout",
     "output_type": "stream",
     "text": [
      "10\n"
     ]
    }
   ],
   "source": [
    "# Se obtiene número de clases del problema\n",
    "n_classes = len(np.unique(y_train))\n",
    "print n_classes"
   ]
  },
  {
   "cell_type": "markdown",
   "metadata": {},
   "source": [
    "Esto es, existen 10 clases diferentes en el problema, cada una asociada a un dígito.\n",
    "\n",
    "Además, se muestra la cantidad de ejemplos existentes por categoría para cada uno de los conjuntos de datos."
   ]
  },
  {
   "cell_type": "code",
   "execution_count": 20,
   "metadata": {},
   "outputs": [
    {
     "name": "stdout",
     "output_type": "stream",
     "text": [
      "Cantidad de ejemplos por categoría en conjunto de entrenamiento\n",
      "\n",
      "Dígito 0 : 13861 ejemplos\n",
      "Dígito 1 : 10585 ejemplos\n",
      "Dígito 2 : 8497 ejemplos\n",
      "Dígito 3 : 7458 ejemplos\n",
      "Dígito 4 : 6882 ejemplos\n",
      "Dígito 5 : 5727 ejemplos\n",
      "Dígito 6 : 5595 ejemplos\n",
      "Dígito 7 : 5045 ejemplos\n",
      "Dígito 8 : 4659 ejemplos\n",
      "Dígito 9 : 4948 ejemplos\n",
      "\n",
      "\n",
      "Cantidad de ejemplos por categoría en conjunto de pruebas\n",
      "\n",
      "Dígito 0 : 5099 ejemplos\n",
      "Dígito 1 : 4149 ejemplos\n",
      "Dígito 2 : 2882 ejemplos\n",
      "Dígito 3 : 2523 ejemplos\n",
      "Dígito 4 : 2384 ejemplos\n",
      "Dígito 5 : 1977 ejemplos\n",
      "Dígito 6 : 2019 ejemplos\n",
      "Dígito 7 : 1660 ejemplos\n",
      "Dígito 8 : 1595 ejemplos\n",
      "Dígito 9 : 1744 ejemplos\n"
     ]
    }
   ],
   "source": [
    "print 'Cantidad de ejemplos por categoría en conjunto de entrenamiento\\n'\n",
    "for i in range(n_classes):\n",
    "    print 'Dígito', i, ':', len(np.where(y_train == i)[0]), 'ejemplos'\n",
    "\n",
    "print('\\n')\n",
    "    \n",
    "print 'Cantidad de ejemplos por categoría en conjunto de pruebas\\n'\n",
    "for i in range(n_classes):\n",
    "    print 'Dígito', i, ':', len(np.where(y_test == i)[0]), 'ejemplos'"
   ]
  },
  {
   "cell_type": "markdown",
   "metadata": {},
   "source": [
    "Finalmente, se visualizan 10 imágenes: 5 del conjunto de entrenamiento y 5 del conjunto de pruebas, elegidas de forma totalmente aleatoria."
   ]
  },
  {
   "cell_type": "code",
   "execution_count": 21,
   "metadata": {},
   "outputs": [
    {
     "name": "stdout",
     "output_type": "stream",
     "text": [
      "Imágenes conjunto de entrenamiento\n"
     ]
    },
    {
     "data": {
      "image/png": "[encoded data removed]",
      "text/plain": [
       "<matplotlib.figure.Figure at 0x7fddb54cd990>"
      ]
     },
     "metadata": {},
     "output_type": "display_data"
    },
    {
     "name": "stdout",
     "output_type": "stream",
     "text": [
      "Imágenes conjunto de prueba\n"
     ]
    },
    {
     "data": {
      "image/png": "[encoded data removed]",
      "text/plain": [
       "<matplotlib.figure.Figure at 0x7fde1a2d0f50>"
      ]
     },
     "metadata": {},
     "output_type": "display_data"
    }
   ],
   "source": [
    "print \"Imágenes conjunto de entrenamiento\"\n",
    "\n",
    "# Se seleccionan 5 imágenes de forma aleatoria a partir del conjunto de entrenamiento\n",
    "train_images = random.sample(X_train, 5)\n",
    "\n",
    "# Se grafican imágenes\n",
    "for i in range(0, len(train_images)):      \n",
    "    ax = plt.subplot(2, 5, 1 + i)\n",
    "    im = train_images[i].reshape(3 ,32, 32).transpose(2, 1, 0)\n",
    "    plt.imshow(im)\n",
    "    ax.get_xaxis().set_visible(False)\n",
    "    ax.get_yaxis().set_visible(False)\n",
    "        \n",
    "plt.show()\n",
    "\n",
    "print \"Imágenes conjunto de prueba\"\n",
    "\n",
    "# Se seleccionan 5 imágenes de forma aleatoria a partir del conjunto de prueba\n",
    "test_images = random.sample(X_test, 5)\n",
    "\n",
    "# Se grafican imágenes\n",
    "for i in range(0, len(test_images)):      \n",
    "    ax = plt.subplot(2, 5, 1 + i)\n",
    "    im = test_images[i].reshape(3 ,32, 32).transpose(2, 1, 0)\n",
    "    plt.imshow(im)\n",
    "    ax.get_xaxis().set_visible(False)\n",
    "    ax.get_yaxis().set_visible(False)\n",
    "        \n",
    "plt.show()"
   ]
  },
  {
   "cell_type": "markdown",
   "metadata": {},
   "source": [
    "** 2.2 Normalización de datos **"
   ]
  },
  {
   "cell_type": "markdown",
   "metadata": {},
   "source": [
    "Ya construídos los conjuntos de datos necesarios, se procede a normalizar las imágenes, para lo cual se dividen las intensidades de pixel de cada uno de dichos conjuntos por 255, que corresponde al máximo valor posible que un pixel puede tener. De esta manera, cada imágen será manejada computacionalmente como una matriz de números entre 0 y 1."
   ]
  },
  {
   "cell_type": "code",
   "execution_count": 22,
   "metadata": {
    "collapsed": true
   },
   "outputs": [],
   "source": [
    "# Se dividen las intensidades de pixel por la intensidad máxima en ambos conjuntos de datos\n",
    "X_train /= 255.\n",
    "X_test /= 255."
   ]
  },
  {
   "cell_type": "markdown",
   "metadata": {},
   "source": [
    "Además, los vectores que almacenan las clases del problema son transformados en matrices categóricas con el fin de poder computar el error asociado a cada ejemplo en cada unas de las fases del proceso de entrenamiento."
   ]
  },
  {
   "cell_type": "code",
   "execution_count": 23,
   "metadata": {
    "collapsed": true
   },
   "outputs": [],
   "source": [
    "# Vectores que contienen atributos a predecir son transformados en matrices categóricas\n",
    "Y_train = np_utils.to_categorical(y_train, n_classes)\n",
    "Y_test = np_utils.to_categorical(y_test, n_classes)"
   ]
  },
  {
   "cell_type": "markdown",
   "metadata": {},
   "source": [
    "En este punto, también es conveniente generar un conjunto de validación para la comparación de diferentes arquitecturas en las siguientes secciones. Para esto, se extraerá aproximádamente el 20% final de los registros (14.651 registros) del conjunto de entrenamiento para construir el conjunto de validación, quedando el 80% restante como conjunto de entrenamiento (58.606 registros)."
   ]
  },
  {
   "cell_type": "code",
   "execution_count": 24,
   "metadata": {
    "collapsed": true
   },
   "outputs": [],
   "source": [
    "# Se construye conjunto de validación y posteriormente se reestructura conjunto de entrenamiento\n",
    "X_val = X_train[int(math.ceil(0.8 * X_train.shape[0])) : , :, :, :]\n",
    "Y_val = Y_train[int(math.ceil(0.8 * Y_train.shape[0])) :]\n",
    "X_train = X_train[: int(math.ceil(0.8 * X_train.shape[0])), :, :, :]\n",
    "Y_train = Y_train[: int(math.ceil(0.8 * Y_train.shape[0])), :]"
   ]
  },
  {
   "cell_type": "markdown",
   "metadata": {},
   "source": [
    "** 2.3 Construcción de modelo clasificador **"
   ]
  },
  {
   "cell_type": "markdown",
   "metadata": {},
   "source": [
    "En esta sección, se construye un modelo clasificador por medio del entrenamiento de una red convolucional. Su arquitectura base es *C* X *P* X *C* X *P* X *F* X *F*. Las capas de la red poseen las características que se detallan a continuación:\n",
    "\n",
    "- La primera capa convolucional utiliza 16 filtros de dimensiones 5 x 5.\n",
    "- La segunda capa convolucional utiliza 512 filtros de dimensiones 7 x 7.\n",
    "- Ambas capas convolucionales son de tipo 2D.\n",
    "- Entre cada una de las capas convolucionales se sitúa una capa de tipo max pooling (capa de reducción), las que escalan las dimensiones del input recibido en un factor de 2.\n",
    "- La capa densa está compuesta por 20 neuronas.\n",
    "- Entre la última capa de reducción y la capa densa se sitúa una capa de tipo flatten para la generación del vector de características a ser procesado por la capa densa.\n",
    "- Tanto en las capas convolucionales como en la capa densa se utiliza la función de activación relu. \n",
    "- La capa de salida posee 10 neuronas y en ella se aplica la función de activación softmax.\n",
    "\n",
    "El código utilizado para implementar la red previamente descrita es mostrado a continuación:"
   ]
  },
  {
   "cell_type": "code",
   "execution_count": 25,
   "metadata": {
    "collapsed": true
   },
   "outputs": [],
   "source": [
    "# Definición de arquitectura convolucional\n",
    "# Se crea modelo vacío\n",
    "original_model = Sequential()\n",
    "# Se añade primera capa convolucional\n",
    "original_model.add(Conv2D(16, (5, 5), padding='same', activation='relu', input_shape=(n_rows, n_cols, n_channels)))\n",
    "# Se agrega primera capa de reducción\n",
    "original_model.add(MaxPooling2D(pool_size=(2,2)))\n",
    "# Se introduce segunda capa convolucional\n",
    "original_model.add(Conv2D(512, (7, 7), padding='same', activation='relu'))\n",
    "# Se añade segunda capa de reducción\n",
    "original_model.add(MaxPooling2D(pool_size=(2,2)))\n",
    "# Se agrega capa de tipo flatten\n",
    "original_model.add(Flatten())\n",
    "# Se introduce capa densa\n",
    "original_model.add(Dense(20, activation='relu'))\n",
    "# Se añade capa de salida\n",
    "original_model.add(Dense(n_classes, activation='softmax'))"
   ]
  },
  {
   "cell_type": "markdown",
   "metadata": {
    "collapsed": true
   },
   "source": [
    "Ya definido el modelo con que se trabajará, es interesante observar como las dimensiones de un input determinado cambian a medida que este es procesado por cada una de las capas de la red. A continuación, se muestra una tabla resumen en la que, por cada capa, se específican las dimensiones del output producido y así como la cantidad de parámetros que el modelo posee."
   ]
  },
  {
   "cell_type": "code",
   "execution_count": 26,
   "metadata": {},
   "outputs": [
    {
     "name": "stdout",
     "output_type": "stream",
     "text": [
      "_________________________________________________________________\n",
      "Layer (type)                 Output Shape              Param #   \n",
      "=================================================================\n",
      "conv2d_3 (Conv2D)            (None, 32, 32, 16)        1216      \n",
      "_________________________________________________________________\n",
      "max_pooling2d_3 (MaxPooling2 (None, 16, 16, 16)        0         \n",
      "_________________________________________________________________\n",
      "conv2d_4 (Conv2D)            (None, 16, 16, 512)       401920    \n",
      "_________________________________________________________________\n",
      "max_pooling2d_4 (MaxPooling2 (None, 8, 8, 512)         0         \n",
      "_________________________________________________________________\n",
      "flatten_2 (Flatten)          (None, 32768)             0         \n",
      "_________________________________________________________________\n",
      "dense_3 (Dense)              (None, 20)                655380    \n",
      "_________________________________________________________________\n",
      "dense_4 (Dense)              (None, 10)                210       \n",
      "=================================================================\n",
      "Total params: 1,058,726\n",
      "Trainable params: 1,058,726\n",
      "Non-trainable params: 0\n",
      "_________________________________________________________________\n"
     ]
    }
   ],
   "source": [
    "# Se obtiene información acerca del modelo definido\n",
    "original_model.summary()"
   ]
  },
  {
   "cell_type": "markdown",
   "metadata": {},
   "source": [
    "Se sabe que, en este problema, los inputs originales poseen dimensiones (número de filas de la imágen, número de columnas de la imágen, número de canales de la imágen). Específicamente, cada imágen del dataset con que se está trabajando posee dimensiones (32, 32, 3). Luego, se tiene, por ejemplo, que después de ser procesadas por la primera capa convolucional, las imágenes aumentan su número de canales de 3 a 16. Por otro lado, la primera capa de reducción reduce a la mitad tanto el número de filas como de columnas de la imágen, manteniendo el número de canales anterior. Otro caso notable es lo que ocurre con la capa de tipo flatten, la que se encarga de \"destruir\" la estructura tridimensional de la imágen, convirtiendo a cada una de ellas en un vector de tamaño número de filas x número de columnas x número de canales, con el fin de que puedan ser procesadas de forma adecuada por la capa densa. Se observa, además, que el modelo posee un total de 1.058.726 parámetros.\n",
    "\n",
    "Ahora, se procede a entrenar el modelo previamente definido. Considerando que se está tratando un problema donde las clases son mutuamente excluyentes y además existen más de 2 clases, lo más apropiado es usar la función de pérdida *categorical crossentropy*. Se utilizará el método de entrenamiento *adagrad*, con el fin de adaptar la tasa de aprendizaje en cada iteración de entrenamiento. Se usará una tasa de aprendizaje inicial de 1e-08, batches de tamaño 256 y 10 epochs."
   ]
  },
  {
   "cell_type": "code",
   "execution_count": 27,
   "metadata": {},
   "outputs": [
    {
     "name": "stdout",
     "output_type": "stream",
     "text": [
      "Train on 58606 samples, validate on 14651 samples\n",
      "Epoch 1/10\n",
      "58606/58606 [==============================] - 696s - loss: 3.2568 - acc: 0.1985 - val_loss: 1.9895 - val_acc: 0.2935\n",
      "Epoch 2/10\n",
      "58606/58606 [==============================] - 700s - loss: 1.8473 - acc: 0.3762 - val_loss: 1.5891 - val_acc: 0.4971\n",
      "Epoch 3/10\n",
      "58606/58606 [==============================] - 703s - loss: 1.3835 - acc: 0.5586 - val_loss: 1.2727 - val_acc: 0.5855\n",
      "Epoch 4/10\n",
      "58606/58606 [==============================] - 706s - loss: 1.0142 - acc: 0.6911 - val_loss: 0.9205 - val_acc: 0.7206\n",
      "Epoch 5/10\n",
      "58606/58606 [==============================] - 713s - loss: 0.8318 - acc: 0.7519 - val_loss: 0.7897 - val_acc: 0.7627\n",
      "Epoch 6/10\n",
      "58606/58606 [==============================] - 710s - loss: 0.7326 - acc: 0.7827 - val_loss: 0.7167 - val_acc: 0.7878\n",
      "Epoch 7/10\n",
      "58606/58606 [==============================] - 717s - loss: 0.6736 - acc: 0.8018 - val_loss: 0.6889 - val_acc: 0.7910\n",
      "Epoch 8/10\n",
      "58606/58606 [==============================] - 726s - loss: 0.6283 - acc: 0.8165 - val_loss: 0.6588 - val_acc: 0.8085\n",
      "Epoch 9/10\n",
      "58606/58606 [==============================] - 716s - loss: 0.5973 - acc: 0.8255 - val_loss: 0.6216 - val_acc: 0.8189\n",
      "Epoch 10/10\n",
      "58606/58606 [==============================] - 708s - loss: 0.5656 - acc: 0.8355 - val_loss: 0.6017 - val_acc: 0.8238\n"
     ]
    },
    {
     "data": {
      "text/plain": [
       "<keras.callbacks.History at 0x7fde18ea1a10>"
      ]
     },
     "execution_count": 27,
     "metadata": {},
     "output_type": "execute_result"
    }
   ],
   "source": [
    "X_train_ = X_train.reshape((X_train.shape[0], n_rows, n_cols, n_channels))\n",
    "X_val_ = X_val.reshape((X_val.shape[0], n_rows, n_cols, n_channels))\n",
    "X_test_ = X_test.reshape((X_test.shape[0], n_rows, n_cols, n_channels))\n",
    "\n",
    "# Se definen la función de pérdida a utilizar y el método de entrenamiento\n",
    "original_model.compile(loss='categorical_crossentropy', optimizer='adagrad', metrics=['accuracy'])\n",
    "# Se entrena modelo\n",
    "original_model.fit(X_train_, Y_train, batch_size=256, epochs=10, verbose=1, validation_data=(X_val_, Y_val))"
   ]
  },
  {
   "cell_type": "markdown",
   "metadata": {},
   "source": [
    "Se observa que la precisión de entrenamiento alcanzada es un de 83,55%, mientras que la de validación es de un 82,38%. Finalmente, se evalúa el modelo construído sobre el conjunto de prueba."
   ]
  },
  {
   "cell_type": "code",
   "execution_count": 29,
   "metadata": {},
   "outputs": [
    {
     "name": "stdout",
     "output_type": "stream",
     "text": [
      "26016/26032 [============================>.] - ETA: 0s\n",
      "Precision sobre conjunto de pruebas: 82.8326674862 %\n"
     ]
    }
   ],
   "source": [
    "original_model_scores = original_model.evaluate(X_test_, Y_test)\n",
    "print '\\nPrecision sobre conjunto de pruebas:', original_model_scores[1] * 100, '%'"
   ]
  },
  {
   "cell_type": "markdown",
   "metadata": {},
   "source": [
    "Luego, se obtiene una precisión de prueba del 82,83%, inferior a la precisión *state-of-the-art*, que es de un 94,28%."
   ]
  },
  {
   "cell_type": "markdown",
   "metadata": {},
   "source": [
    "**2.4 Modificando el tamaño de los filtros**"
   ]
  },
  {
   "cell_type": "markdown",
   "metadata": {},
   "source": [
    "En esta sección, se evalúan los efectos de modificar tanto el tamaño de los filtros utilizados en las capas convolucionales como el factor de reducción de las capas de tipo pooling. Especificamente, se desea saber como tales modificaciones benefician o bien perjudican la precisión obtenida sobre el conjunto de pruebas.   "
   ]
  },
  {
   "cell_type": "markdown",
   "metadata": {},
   "source": [
    "**2.4.1 Primer caso: Filtros de 7 x 7, pooling de 4 x 4**"
   ]
  },
  {
   "cell_type": "markdown",
   "metadata": {},
   "source": [
    "En primer lugar, se experimentará utilizando filtros de tamaño 7 x 7 en cada capa convolucional, por lo que, en la primera de estas, el tamaño de los filtros se mantiene, mientras que en la segunda, se reduce en dos unidades. También, el factor de reducción presente en las capas de pooling será disminuído a 4, esto es, los inputs recibidos por estas capas serán reducidos a la cuarta parte en cada dimensión."
   ]
  },
  {
   "cell_type": "code",
   "execution_count": 30,
   "metadata": {
    "collapsed": true
   },
   "outputs": [],
   "source": [
    "model_7x4 = Sequential()\n",
    "# Se añade primera capa convolucional, con filtros de tamaño 7 x 7\n",
    "model_7x4.add(Conv2D(16, (7, 7), padding='same', activation='relu', input_shape=(n_rows, n_cols, n_channels)))\n",
    "# Se agrega primera capa de reducción, reduciendo factor de pooling a 4 en cada dimensión\n",
    "model_7x4.add(MaxPooling2D(pool_size=(4, 4)))\n",
    "# Se introduce segunda capa convolucional, idéntica a la anterior\n",
    "model_7x4.add(Conv2D(512, (7, 7), padding='same', activation='relu'))\n",
    "# Se añade segunda capa de reducción, idéntica a la anterior\n",
    "model_7x4.add(MaxPooling2D(pool_size=(4, 4)))\n",
    "# Se agrega capa de tipo flatten\n",
    "model_7x4.add(Flatten())\n",
    "# Se introduce capa densa\n",
    "model_7x4.add(Dense(20, activation='relu'))\n",
    "# Se añade capa de salida\n",
    "model_7x4.add(Dense(n_classes, activation='softmax'))"
   ]
  },
  {
   "cell_type": "markdown",
   "metadata": {},
   "source": [
    "Ya definido este nuevo modelo, se procede a entrenarlo."
   ]
  },
  {
   "cell_type": "code",
   "execution_count": 32,
   "metadata": {
    "collapsed": true
   },
   "outputs": [
    {
     "name": "stdout",
     "output_type": "stream",
     "text": [
      "Train on 58606 samples, validate on 26032 samples\n",
      "Epoch 1/10\n",
      "58606/58606 [==============================] - 509s - loss: 2.2989 - acc: 0.1893 - val_loss: 2.1325 - val_acc: 0.2435\n",
      "Epoch 2/10\n",
      "58606/58606 [==============================] - 469s - loss: 1.9076 - acc: 0.3191 - val_loss: 1.6061 - val_acc: 0.4518\n",
      "Epoch 3/10\n",
      "58606/58606 [==============================] - 615s - loss: 1.5076 - acc: 0.4998 - val_loss: 1.3105 - val_acc: 0.5980\n",
      "Epoch 4/10\n",
      "58606/58606 [==============================] - 680s - loss: 1.2228 - acc: 0.6124 - val_loss: 1.1010 - val_acc: 0.6509\n",
      "Epoch 5/10\n",
      "58606/58606 [==============================] - 294s - loss: 1.0507 - acc: 0.6730 - val_loss: 0.9535 - val_acc: 0.7158\n",
      "Epoch 6/10\n",
      "58606/58606 [==============================] - 288s - loss: 0.9503 - acc: 0.7053 - val_loss: 0.8939 - val_acc: 0.7302\n",
      "Epoch 7/10\n",
      "58606/58606 [==============================] - 291s - loss: 0.8785 - acc: 0.7306 - val_loss: 0.8477 - val_acc: 0.7487\n",
      "Epoch 8/10\n",
      "58606/58606 [==============================] - 290s - loss: 0.8250 - acc: 0.7477 - val_loss: 0.8287 - val_acc: 0.7501\n",
      "Epoch 9/10\n",
      "58606/58606 [==============================] - 290s - loss: 0.7859 - acc: 0.7600 - val_loss: 0.7937 - val_acc: 0.7614\n",
      "Epoch 10/10\n",
      "58606/58606 [==============================] - 289s - loss: 0.7567 - acc: 0.7689 - val_loss: 0.7522 - val_acc: 0.7762\n"
     ]
    }
   ],
   "source": [
    "# Se definen la función de pérdida a utilizar y el método de entrenamiento\n",
    "model_7x4.compile(loss='categorical_crossentropy', optimizer='adagrad', metrics=['accuracy'])\n",
    "# Se entrena modelo\n",
    "model_7x4_history = model_7x4.fit(X_train_, Y_train, batch_size=256, epochs=10, verbose=1, validation_data=(X_val_, Y_test))\n",
    "model_7x4.save('model_7x4.h5')"
   ]
  },
  {
   "cell_type": "markdown",
   "metadata": {},
   "source": [
    "Luego, se evalúa el modelo sobre el conjunto de pruebas."
   ]
  },
  {
   "cell_type": "code",
   "execution_count": 34,
   "metadata": {},
   "outputs": [
    {
     "name": "stdout",
     "output_type": "stream",
     "text": [
      "26016/26032 [============================>.] - ETA: 0sPrecision sobre conjunto de pruebas: 77.6198524892 %\n"
     ]
    }
   ],
   "source": [
    "model_7x4_scores = model_7x4.evaluate(X_test_, Y_test)\n",
    "print 'Precision sobre conjunto de pruebas:', model_7x4_scores[1] * 100, '%'"
   ]
  },
  {
   "cell_type": "markdown",
   "metadata": {},
   "source": [
    "Se observa se obtiene una precisión del ??,?% sobre el conjunto de prueba, siendo mayor/menor a la precisión obtenida por la arquitectura definida originalmente."
   ]
  },
  {
   "cell_type": "markdown",
   "metadata": {},
   "source": [
    "**2.4.2 Segundo caso: Filtros de 5 x 5, pooling de 4 x 4**"
   ]
  },
  {
   "cell_type": "markdown",
   "metadata": {},
   "source": [
    "Ahora, se estudiará el efecto de duplicar el factor de reducción utilizado en la sección anterior, esto es, usando un *pool size* de 4 x 4 en cada capa de pooling. Además, el tamaño de los filtros se mantendrá en 5 x 5 para cada capa convolucional."
   ]
  },
  {
   "cell_type": "code",
   "execution_count": null,
   "metadata": {
    "collapsed": true
   },
   "outputs": [],
   "source": [
    "model_5x4 = Sequential()\n",
    "# Se añade primera capa convolucional, manteniendo constante el tamaño de los filtros\n",
    "model_5x4.add(Conv2D(16, (5, 5), padding='same', activation='relu', input_shape=(n_rows, n_cols, n_channels)))\n",
    "# Se agrega primera capa de reducción, aumentando factor de pooling a 4 en cada dimensión\n",
    "model_5x4.add(MaxPooling2D(pool_size=(4, 4)))\n",
    "# Se introduce segunda capa convolucional, idéntica a la anterior\n",
    "model_5x4.add(Conv2D(512, (5, 5), padding='same', activation='relu'))\n",
    "# Se añade segunda capa de reducción, idéntica a la anterior\n",
    "model_5x4.add(MaxPooling2D(pool_size=(4, 4)))\n",
    "# Se agrega capa de tipo flatten\n",
    "model_5x4.add(Flatten())\n",
    "# Se introduce capa densa\n",
    "model_5x4.add(Dense(20, activation='relu'))\n",
    "# Se añade capa de salida\n",
    "model_5x4.add(Dense(n_classes, activation='softmax'))"
   ]
  },
  {
   "cell_type": "markdown",
   "metadata": {},
   "source": [
    "Así, se procede a entrenar este modelo."
   ]
  },
  {
   "cell_type": "code",
   "execution_count": null,
   "metadata": {
    "collapsed": true
   },
   "outputs": [],
   "source": [
    "model_5x4.compile(loss='categorical_crossentropy', optimizer='adagrad', metrics=['accuracy'])\n",
    "model_5x4_history = model_5x4.fit(X_train_, Y_train, batch_size=256, epochs=10, verbose=1, validation_data=(X_val_, Y_test))\n",
    "model_5x4.save('model_5x4.h5')"
   ]
  },
  {
   "cell_type": "markdown",
   "metadata": {},
   "source": [
    "Ya entrenado el modelo, este es evaluado sobre el conjunto de pruebas."
   ]
  },
  {
   "cell_type": "code",
   "execution_count": null,
   "metadata": {
    "collapsed": true
   },
   "outputs": [],
   "source": [
    "model_5x4_scores = model_5x4.evaluate(X_test_, Y_test)\n",
    "print 'Precision sobre conjunto de pruebas:', model_5x4_scores[1] * 100, '%'"
   ]
  },
  {
   "cell_type": "markdown",
   "metadata": {},
   "source": [
    "En consecuencia, la nueva precisión de prueba que se obtiene es de un ??,?%, mejorando/empeorando respecto a la arquitectura original, y/pero aumentando/disminuyendo respecto a la precisión obtenida en la sección 2.4.1."
   ]
  },
  {
   "cell_type": "markdown",
   "metadata": {},
   "source": [
    "**2.4.3 Tercer caso: Filtros de 9 x 9, pooling de 2 x 2**"
   ]
  },
  {
   "cell_type": "markdown",
   "metadata": {},
   "source": [
    "En esta subsección, se analizará el efecto de aumentar considerablemente el tamaño de los filtros utilizados en las capas convolucionales, siendo sus tamaños de 9 x 9. Además, el factor de reducción en las capas de pooling se reducirá nuevamente a 2 x 2."
   ]
  },
  {
   "cell_type": "code",
   "execution_count": null,
   "metadata": {
    "collapsed": true
   },
   "outputs": [],
   "source": [
    "model_9x2 = Sequential()\n",
    "# Se añade primera capa convolucional, aumentando tamaño de los filtros a 9 en cada dimensión\n",
    "model_9x2.add(Conv2D(16, (9, 9), padding='same', activation='relu', input_shape=(n_rows, n_cols, n_channels)))\n",
    "# Se agrega primera capa de reducción, reduciendo el factor de pooling a 2 en cada dimensión\n",
    "model_9x2.add(MaxPooling2D(pool_size=(2, 2)))\n",
    "# Se introduce segunda capa convolucional, idéntica a la anterior\n",
    "model_9x2.add(Conv2D(512, (9, 9), padding='same', activation='relu'))\n",
    "# Se añade segunda capa de reducción, idéntica a la anterior\n",
    "model_9x2.add(MaxPooling2D(pool_size=(2, 2)))\n",
    "# Se agrega capa de tipo flatten\n",
    "model_9x2.add(Flatten())\n",
    "# Se introduce capa densa\n",
    "model_9x2.add(Dense(20, activation='relu'))\n",
    "# Se añade capa de salida\n",
    "model_9x2.add(Dense(n_classes, activation='softmax'))"
   ]
  },
  {
   "cell_type": "markdown",
   "metadata": {},
   "source": [
    "Se procede a entrenar el modelo definido."
   ]
  },
  {
   "cell_type": "code",
   "execution_count": null,
   "metadata": {},
   "outputs": [],
   "source": [
    "model_9x2.compile(loss='categorical_crossentropy', optimizer='adagrad', metrics=['accuracy'])\n",
    "model_9x2_history = model_9x2.fit(X_train_, Y_train, batch_size=256, epochs=10, verbose=1, validation_data=(X_val_, Y_test))"
   ]
  },
  {
   "cell_type": "markdown",
   "metadata": {},
   "source": [
    "Con el modelo entrenado, se procede a determinar la precisión de prueba."
   ]
  },
  {
   "cell_type": "code",
   "execution_count": null,
   "metadata": {
    "collapsed": true
   },
   "outputs": [],
   "source": [
    "model_9x2_scores = model_9x2.evaluate(X_test_, Y_test)\n",
    "print 'Precision sobre conjunto de pruebas:', model_9x2_scores[1] * 100, '%'\n",
    "model_9x2.save('model_9x2.h5')"
   ]
  },
  {
   "cell_type": "markdown",
   "metadata": {},
   "source": [
    "Se observa, entonces, que la nueva precisión de prueba es de un ??,?%, mejorando/empeorando respecto a la arquitectura original, y/pero aumentando/disminuyendo respecto a la precisiones anteriores."
   ]
  },
  {
   "cell_type": "markdown",
   "metadata": {},
   "source": [
    "**2.4.4 Cuarto caso: Filtros de 3 x 3, pooling de 2 x 2**"
   ]
  },
  {
   "cell_type": "markdown",
   "metadata": {},
   "source": [
    "Finalmente, se estudiará el efecto de disminuir notablemente el tamaño de los filtros utilizados en las capas convolucionales, siendo estos de 3 x 3. Además, el factor de reducción en las capas de pooling continuará siendo de 2 x 2."
   ]
  },
  {
   "cell_type": "code",
   "execution_count": null,
   "metadata": {
    "collapsed": true
   },
   "outputs": [],
   "source": [
    "model_3x2 = Sequential()\n",
    "# Se añade primera capa convolucional, disminuyendo tamaño de los filtros a 3 en cada dimensión\n",
    "model_3x2.add(Conv2D(16, (3, 3), padding='same', activation='relu', input_shape=(n_rows, n_cols, n_channels)))\n",
    "# Se agrega primera capa de reducción, manteniendo el factor de pooling a 2 en cada dimensión\n",
    "model_3x2.add(MaxPooling2D(pool_size=(2, 2)))\n",
    "# Se introduce segunda capa convolucional, idéntica a la anterior\n",
    "model_3x2.add(Conv2D(512, (3, 3), padding='same', activation='relu'))\n",
    "# Se añade segunda capa de reducción, idéntica a la anterior\n",
    "model_3x2.add(MaxPooling2D(pool_size=(2, 2)))\n",
    "# Se agrega capa de tipo flatten\n",
    "model_3x2.add(Flatten())\n",
    "# Se introduce capa densa\n",
    "model_3x2.add(Dense(20, activation='relu'))\n",
    "# Se añade capa de salida\n",
    "model_3x2.add(Dense(n_classes, activation='softmax'))"
   ]
  },
  {
   "cell_type": "markdown",
   "metadata": {},
   "source": [
    "Se entrena el modelo definido."
   ]
  },
  {
   "cell_type": "code",
   "execution_count": null,
   "metadata": {
    "collapsed": true
   },
   "outputs": [],
   "source": [
    "model_3x2.compile(loss='categorical_crossentropy', optimizer='adagrad', metrics=['accuracy'])\n",
    "model_3x2_history = model_3x2.fit(X_train_, Y_train, batch_size=256, epochs=10, verbose=1, validation_data=(X_val_, Y_test))"
   ]
  },
  {
   "cell_type": "markdown",
   "metadata": {},
   "source": [
    "Con la arquitectura ya entrada, se determina la precisión sobre el conjunto de prueba."
   ]
  },
  {
   "cell_type": "code",
   "execution_count": null,
   "metadata": {
    "collapsed": true
   },
   "outputs": [],
   "source": [
    "model_3x2_scores = model_3x2.evaluate(X_test_, Y_test)\n",
    "print 'Precision sobre conjunto de pruebas:', model_3x2_scores[1] * 100, '%'\n",
    "model_3x2.save('model_3x2.h5')"
   ]
  },
  {
   "cell_type": "markdown",
   "metadata": {},
   "source": [
    "Se puede ver que la precisión de prueba es de un ??,?%, mejorando/empeorando respecto a la arquitectura original, y/pero aumentando/disminuyendo respecto a la precisiones anteriores."
   ]
  },
  {
   "cell_type": "markdown",
   "metadata": {},
   "source": [
    "En este punto, resulta interesante comparar la evolución del error de entrenamiento en función del número de epochs para cada uno de los tres casos estudiados en esta sección."
   ]
  },
  {
   "cell_type": "code",
   "execution_count": null,
   "metadata": {},
   "outputs": [],
   "source": [
    "plt.plot(model_7x4.history['acc'])\n",
    "plt.plot(model_5x4.history['acc'])\n",
    "plt.plot(model_9x2.history['acc'])\n",
    "plt.plot(model_3x2.history['acc'])\n",
    "plt.title('Comparacion de precision de entrenamiento')\n",
    "plt.ylabel('Precision')\n",
    "plt.xlabel('Epoch')\n",
    "plt.legend(['7|4', '5|4', '9|2', '3|2'], loc='upper left')\n",
    "plt.show()"
   ]
  },
  {
   "cell_type": "markdown",
   "metadata": {},
   "source": [
    "El gráfico anterior da cuenta de que ..."
   ]
  },
  {
   "cell_type": "markdown",
   "metadata": {},
   "source": [
    "**2.4.4 Resumen**"
   ]
  },
  {
   "cell_type": "markdown",
   "metadata": {},
   "source": [
    "En la tabla que se muestra a continuación, se resumen los resultados obtenidos en las sub-secciones anteriores."
   ]
  },
  {
   "cell_type": "raw",
   "metadata": {},
   "source": [
    "Filtros convoluciones | Pool size   | Test accuracy | Tiempo de entrenamiento\n",
    "-----------------------------------------------------------------------------\n",
    "5 x 5                 |  2 x 2      |  68,96 %      | ???? [s]\n",
    "-----------------------------------------------------------------------------\n",
    "5 x 5                 |  4 x 4      |  29,01 %      | ???? [s]\n",
    "-----------------------------------------------------------------------------\n",
    "9 x 9                 |  2 x 2      |  49,63 %      | ???? [s]\n",
    "-----------------------------------------------------------------------------\n",
    "3 x 3                 |  2 x 2      |  ??,?? %      | ???? [s]"
   ]
  },
  {
   "cell_type": "markdown",
   "metadata": {},
   "source": [
    "**2.5 Modificando la cantidad de filtros**"
   ]
  },
  {
   "cell_type": "markdown",
   "metadata": {},
   "source": [
    "En esta sección, se experimenta modificando la cantidad de filtros utilizados en las capas convolucionales, buscando conocer los efectos que estas medidas tienen tanto sobre el tiempo de entrenamiento como sobre el error de pruebas. Dados los resultados de la sección 2.4, el tamaño de los filtros de las capas convolucionales será de 5 x 5, mientras que el *pool size* será de 2 x 2."
   ]
  },
  {
   "cell_type": "markdown",
   "metadata": {},
   "source": [
    "**2.5.1 Primer caso: Disminuyendo la cantidad de filtros**"
   ]
  },
  {
   "cell_type": "markdown",
   "metadata": {},
   "source": [
    "Se estudia el efecto de reducir la cantidad de filtros convolucionales a la mitad con respecto a la arquitectura original, esto es, 8 filtros en la primera y 256 en la segunda. "
   ]
  },
  {
   "cell_type": "code",
   "execution_count": null,
   "metadata": {
    "collapsed": true
   },
   "outputs": [],
   "source": [
    "model = Sequential()\n",
    "# Se añade primera capa convolucional, manteniendo constante el tamaño de los filtros\n",
    "model.add(Conv2D(8, (5, 5), padding='same', activation='relu', input_shape=(n_rows, n_cols, n_channels)))\n",
    "# Se agrega primera capa de reducción, reduciendo factor de pooling a 2 en cada dimensión\n",
    "model.add(MaxPooling2D(pool_size=(2, 2)))\n",
    "# Se introduce segunda capa convolucional, idéntica a la anterior, reduciendo el tamaño de los filtros en dos unidades\n",
    "model.add(Conv2D(256, (5, 5), padding='same', activation='relu'))\n",
    "# Se añade segunda capa de reducción, idéntica a la anterior\n",
    "model.add(MaxPooling2D(pool_size=(2, 2)))\n",
    "# Se agrega capa de tipo flatten\n",
    "model.add(Flatten())\n",
    "# Se introduce capa densa\n",
    "model.add(Dense(20, activation='relu'))\n",
    "# Se añade capa de salida\n",
    "model.add(Dense(n_classes, activation='softmax'))"
   ]
  },
  {
   "cell_type": "markdown",
   "metadata": {},
   "source": [
    "Luego, el modelo es entrenado."
   ]
  },
  {
   "cell_type": "code",
   "execution_count": null,
   "metadata": {
    "collapsed": true
   },
   "outputs": [],
   "source": [
    "model.compile(loss='categorical_crossentropy', optimizer='adagrad', metrics=['accuracy'])\n",
    "case_one_history = model.fit(X_train_, Y_train, batch_size=256, epochs=10, verbose=1, validation_data=(X_test_, Y_test))"
   ]
  },
  {
   "cell_type": "markdown",
   "metadata": {},
   "source": [
    "Estando el modelo ya entrenado, se evalúa su rendimiento sobre el conjunto de pruebas."
   ]
  },
  {
   "cell_type": "code",
   "execution_count": null,
   "metadata": {
    "collapsed": true
   },
   "outputs": [],
   "source": [
    "model.evaluate(X_test_, Y_test)"
   ]
  },
  {
   "cell_type": "markdown",
   "metadata": {},
   "source": [
    "Se observa que la precisión obtenida sobre el conjunto de prueba es de un ??,?%, siendo mayor/menor a la precisión obtenida por la arquitectura original."
   ]
  },
  {
   "cell_type": "markdown",
   "metadata": {},
   "source": [
    "**2.5.2 Segundo Caso: Aumentando la cantidad de filtros**"
   ]
  },
  {
   "cell_type": "markdown",
   "metadata": {},
   "source": [
    "Se analiza el efecto de duplicar la cantidad de filtros usados en las capas convolucionales, es decir, se utilizan 32 filtros, en vez de 16 en la primera, y 1024 en la segunda, en vez de 512."
   ]
  },
  {
   "cell_type": "code",
   "execution_count": null,
   "metadata": {
    "collapsed": true
   },
   "outputs": [],
   "source": [
    "model = Sequential()\n",
    "# Se añade primera capa convolucional, manteniendo constante el tamaño de los filtros\n",
    "model.add(Conv2D(32, (5, 5), padding='same', activation='relu', input_shape=(n_rows, n_cols, n_channels)))\n",
    "# Se agrega primera capa de reducción, reduciendo factor de pooling a 2 en cada dimensión\n",
    "model.add(MaxPooling2D(pool_size=(2, 2)))\n",
    "# Se introduce segunda capa convolucional, idéntica a la anterior, reduciendo el tamaño de los filtros en dos unidades\n",
    "model.add(Conv2D(1024, (5, 5), padding='same', activation='relu'))\n",
    "# Se añade segunda capa de reducción, idéntica a la anterior\n",
    "model.add(MaxPooling2D(pool_size=(2, 2)))\n",
    "# Se agrega capa de tipo flatten\n",
    "model.add(Flatten())\n",
    "# Se introduce capa densa\n",
    "model.add(Dense(20, activation='relu'))\n",
    "# Se añade capa de salida\n",
    "model.add(Dense(n_classes, activation='softmax'))"
   ]
  },
  {
   "cell_type": "markdown",
   "metadata": {},
   "source": [
    "Definido el modelo, este es entrenado."
   ]
  },
  {
   "cell_type": "code",
   "execution_count": null,
   "metadata": {
    "collapsed": true
   },
   "outputs": [],
   "source": [
    "model.compile(loss='categorical_crossentropy', optimizer='adagrad', metrics=['accuracy'])\n",
    "case_two_history = model.fit(X_train_, Y_train, batch_size=256, epochs=10, verbose=1, validation_data=(X_test_, Y_test))"
   ]
  },
  {
   "cell_type": "markdown",
   "metadata": {},
   "source": [
    "A continuación, se evalúa el modelo sobre el conjunto de pruebas."
   ]
  },
  {
   "cell_type": "code",
   "execution_count": null,
   "metadata": {
    "collapsed": true
   },
   "outputs": [],
   "source": [
    "model.evaluate(X_test_, Y_test)"
   ]
  },
  {
   "cell_type": "markdown",
   "metadata": {},
   "source": [
    "El resultado anterior implica que la precisión de prueba conseguida es de un ??,?%, mejorando/empeorando en comparación arquitectura original, y/pero aumentando/disminuyendo respecto a la precisión obtenida en la sección 2.5.1."
   ]
  },
  {
   "cell_type": "markdown",
   "metadata": {},
   "source": [
    "De forma análoga a la sección 2.4, resulta interesante comparar la evolución del error de entrenamiento en función del número de epochs para los dos casos estudiados en esta sección."
   ]
  },
  {
   "cell_type": "code",
   "execution_count": null,
   "metadata": {
    "collapsed": true
   },
   "outputs": [],
   "source": [
    "plt.plot(case_one_history.history['acc'])\n",
    "plt.plot(case_two_history.history['acc'])\n",
    "plt.title('Comparacion de precision de entrenamiento')\n",
    "plt.ylabel('Precision')\n",
    "plt.xlabel('Epoch')\n",
    "plt.legend(['Caso 1', 'Caso 2'], loc='upper left')\n",
    "plt.show()"
   ]
  },
  {
   "cell_type": "markdown",
   "metadata": {},
   "source": [
    "El gráfico construído muestra que ..."
   ]
  },
  {
   "cell_type": "markdown",
   "metadata": {},
   "source": [
    "** 2.5.3 Resumen **"
   ]
  },
  {
   "cell_type": "markdown",
   "metadata": {},
   "source": [
    "En la siguiente tabla, se resumen los resultados conseguidos en las sub-secciones previas."
   ]
  },
  {
   "cell_type": "raw",
   "metadata": {},
   "source": [
    "Cantidad de fitros capa conv. 1 | Cantidad de fitros capa conv. 2 | Test accuracy | Tiempo de entrenamiento\n",
    "--------------------------------------------------------------------------------------------------------------\n",
    "8                               | 256                             | ??,?%         | ????\n",
    "--------------------------------------------------------------------------------------------------------------\n",
    "32                              | 1024                            | ??,?%         | ????"
   ]
  },
  {
   "cell_type": "markdown",
   "metadata": {},
   "source": [
    "**2.6 Modificando la red**"
   ]
  },
  {
   "cell_type": "markdown",
   "metadata": {},
   "source": [
    "En la siguiente sección, se desea introducir posibles mejoras en el rendimiento de la red sobre el conjunto de pruebas.\n",
    "\n",
    "Teóricamente, se sabe que para construir un buen modelo, es necesario que la cantidad de ejemplos utilizados para su entrenamiento sea proporcional al número de parámetros que posee. En este contexto, tales condiciones no se cumplen, tomando en cuenta que el número de parámetros de las arquitecturas estudiadas es de un 1.000.000, mientras que la cantidad de ejemplos usados para el entrenamiento es de alredor de 60.000. Sin embargo, el aumentar significativamente el volumen de dichos ejemplos puede llevar a que el entrenamiento sea inviable si no se cuenta con los recursos computacionales apropiados. Luego, una alternativa que puede ayudar a remediar esta situación es regularizar el modelo por medio de *dropout*, esto es, desactivando un porcentaje determinado de las neuronas de las capas convolucionales en cada epoch.\n",
    "\n",
    "También, se aumentará el número de neuronas en la capa densa, esperando que esto ayude a complementar el efecto de regularización. Dicho aumentó llevará a que la capa esté constituida por 100 neuronas.\n",
    "\n",
    "En el siguiente código, se introducen las modificaciones señaladas. Para la primera capa convolucional, se utilizarán 16 filtros de dimensiones 5 x 5. Para la segunda, 512 filtros de tamaño 5 x 5. Por último, las capas de *max pooling* tendrán asociado un *pool size* de 2 x 2. El parámetro *dropout* será de un 25% para la primera capa convolucional y la capa densa, mientras que será de un 50% para la segunda capa convolucional."
   ]
  },
  {
   "cell_type": "code",
   "execution_count": null,
   "metadata": {
    "collapsed": true
   },
   "outputs": [],
   "source": [
    "model = Sequential()\n",
    "# Se añade primera capa convolucional\n",
    "model.add(Conv2D(16, (5, 5), padding='same', activation='relu', input_shape=(n_rows, n_cols, n_channels)))\n",
    "# Se agrega primera capa de reducción\n",
    "model.add(MaxPooling2D(pool_size=(2, 2)))\n",
    "# Se introduce dropout\n",
    "model.add(Dropout(0.25))\n",
    "# Se introduce segunda capa convolucional\n",
    "model.add(Conv2D(512, (5, 5), padding='same', activation='relu'))\n",
    "# Se añade segunda capa de reducción\n",
    "model.add(MaxPooling2D(pool_size=(2, 2)))\n",
    "# Se introduce dropout\n",
    "model.add(Dropout(0.5))\n",
    "# Se agrega capa de tipo flatten\n",
    "model.add(Flatten())\n",
    "# Se introduce capa densa, aumentando a 100 la cantidad de neuronas\n",
    "model.add(Dense(100, activation='relu'))\n",
    "# Se introduce dropout en capa densa\n",
    "model.add(Dropout(0.25))\n",
    "# Se añade capa de salida\n",
    "model.add(Dense(n_classes, activation='softmax'))"
   ]
  },
  {
   "cell_type": "markdown",
   "metadata": {},
   "source": [
    "En el siguiente esquema, se muestra en detalle los cambios experimentados por las dimensiones de un input determinado, junto con la cantidad de parámetros que este nuevo modelo posee."
   ]
  },
  {
   "cell_type": "code",
   "execution_count": null,
   "metadata": {
    "collapsed": true
   },
   "outputs": [],
   "source": [
    "# Se muestran nuevas características de modelo al agregar dropout y más neuronas a la capa densa\n",
    "model.summary()"
   ]
  },
  {
   "cell_type": "markdown",
   "metadata": {},
   "source": [
    "Se puede ver que ahora ..."
   ]
  },
  {
   "cell_type": "markdown",
   "metadata": {},
   "source": [
    "Así, se continúa con el entrenamiento del modelo."
   ]
  },
  {
   "cell_type": "code",
   "execution_count": null,
   "metadata": {
    "collapsed": true
   },
   "outputs": [],
   "source": [
    "model.compile(loss='categorical_crossentropy', optimizer='adam', metrics=['accuracy'])\n",
    "model.fit(X_train_, Y_train, batch_size=256, epochs=10, verbose=1, validation_data=(X_test_, Y_test))"
   ]
  },
  {
   "cell_type": "markdown",
   "metadata": {},
   "source": [
    "Luego, se evalúa el modelo sobre el conjunto de pruebas."
   ]
  },
  {
   "cell_type": "code",
   "execution_count": null,
   "metadata": {
    "collapsed": true
   },
   "outputs": [],
   "source": [
    "model.evaluate(X_test_, Y_test)"
   ]
  },
  {
   "cell_type": "markdown",
   "metadata": {},
   "source": [
    "Con esto, se aprecia que la precisión de prueba que se obtiene es de un ??,?%, mejorando/empeorando en comparación con la  arquitectura original. Así (no) tiene sentido introducir las modificaciones que se describieron en los párrafos previos."
   ]
  },
  {
   "cell_type": "markdown",
   "metadata": {},
   "source": [
    "**2.7 Visualización de pesos y efecto de filtros en primera capa convolucional**"
   ]
  },
  {
   "cell_type": "markdown",
   "metadata": {},
   "source": [
    "En esta sección, se visualizan los pesos asociados a la primera capa convolucional del modelo definido en la sección 2.6. Se ha escogido dicho modelo dado a que fue el que logró obtener la mejor precisión sobre el conjunto de pruebas en comparación con los modelos previamente implementados.  "
   ]
  },
  {
   "cell_type": "code",
   "execution_count": null,
   "metadata": {
    "collapsed": true
   },
   "outputs": [],
   "source": [
    "# Se obtienen pesos de primera capa convolucional del modelo 2.6\n",
    "weights = model.layers[0].get_weights()"
   ]
  },
  {
   "cell_type": "markdown",
   "metadata": {},
   "source": [
    "A continuación, se obtiene tanto la cantidad de filtros utilizados como las dimensiones de la matriz de pesos de cada uno de ellos."
   ]
  },
  {
   "cell_type": "code",
   "execution_count": null,
   "metadata": {
    "collapsed": true
   },
   "outputs": [],
   "source": [
    "# Se obtiene el número de filtros y las dimensiones de la matriz de pesos\n",
    "weights[0].shape"
   ]
  },
  {
   "cell_type": "markdown",
   "metadata": {},
   "source": [
    "Luego, la primera capa convolucional posee ?? filtros y las dimensiones de la matriz de pesos asociada a cada filtro posee dimensiones ? x ?, las que son utilizadas en cada uno de los ? canales del input recibido.\n",
    "\n",
    "A modo de ejemplo, se muestra matriz de pesos del primer filtro de la capa. Notar que existe una matriz diferente por cada uno de los canales del input recibido."
   ]
  },
  {
   "cell_type": "code",
   "execution_count": null,
   "metadata": {
    "collapsed": true
   },
   "outputs": [],
   "source": [
    "# Se muestra matriz de pesos de primer filtro de la capa convolucional\n",
    "weights[0].T[0]"
   ]
  },
  {
   "cell_type": "markdown",
   "metadata": {},
   "source": [
    "Por otra parte, también interesa conocer el efecto que tienen los filtros de la capa sobre una imágen determinada. Para ello, primero se escoge de forma aleatoria una imágen del conjunto de entrenamiento y se muestra."
   ]
  },
  {
   "cell_type": "code",
   "execution_count": null,
   "metadata": {
    "collapsed": true,
    "scrolled": true
   },
   "outputs": [],
   "source": [
    "# Se escoge imágen de conjunto de entrenamiento\n",
    "\n",
    "random.seed(21)\n",
    "image = random.choice(X_train).reshape(n_channels, n_rows, n_cols).transpose(2, 1, 0)\n",
    "plt.figure()\n",
    "plt.imshow(image)\n",
    "plt.axis('off')\n",
    "plt.show()"
   ]
  },
  {
   "cell_type": "markdown",
   "metadata": {},
   "source": [
    "En las siguientes figuras, se muestra el resultado de aplicar cada uno de los filtros de la primera capa convolucional sobre la imágen que acaba de ser mostrada. Cada uno de estos \"resultados\" es denominado *feature map* en la teoría y permite advertir las características que el filtro está aprendiendo a partir de la imágen."
   ]
  },
  {
   "cell_type": "code",
   "execution_count": null,
   "metadata": {
    "collapsed": true
   },
   "outputs": [],
   "source": [
    "# Se obtiene feature map de cada filtro\n",
    "filters_output_function = backend.function([model.layers[0].input], [model.layers[0].output])\n",
    "filters_output = filters_output_function([np.array([image])])[0]\n",
    "\n",
    "# Se muestra feature map de cada filtro\n",
    "filters = filters_output[0]\n",
    "f, ax = plt.subplots(4, 4, sharey=True, figsize=(16, 16))\n",
    "for i in range(4):\n",
    "    for j in range(4):\n",
    "        filter_number = 4 * i + j + 1\n",
    "        ax[i][j].set_title(filter_number)\n",
    "        ax[i][j].imshow(np.transpose(filters[filter_number - 1]))\n",
    "plt.show()"
   ]
  },
  {
   "cell_type": "markdown",
   "metadata": {},
   "source": [
    "De esta manera, se aprecia que ..."
   ]
  },
  {
   "cell_type": "markdown",
   "metadata": {},
   "source": [
    "**2.8 ¿Tiende la red a confudir ciertos dígitos?**"
   ]
  },
  {
   "cell_type": "markdown",
   "metadata": {
    "collapsed": true
   },
   "source": [
    "Culminando el análisis de este problema, se busca determinar los pares de dígitos que la red tiende a confudir. Para ello, se procede a computar la matriz de confusión del modelo escogido. De esta forma, se tiene que el elemento ij de esta matriz corresponde a la cantidad de imágenes cuya clase real es i, pero el modelo predijo j como su clase."
   ]
  },
  {
   "cell_type": "code",
   "execution_count": null,
   "metadata": {
    "collapsed": true
   },
   "outputs": [],
   "source": [
    "# Se crea lista con la clase real de cada imágen perteneciente al conjunto de prueba\n",
    "real_values = [y[0] for y in y_test]\n",
    "# Se crea lista con la clase predicha para cada imágen por el modelo considerado\n",
    "predicted_values = [y_[0] for y_ in model.predict(X_test_)]\n",
    "\n",
    "# A partir de las listas anteriores, se computa la matriz de confusión del modelo\n",
    "confusion_matrix(real_values, predicted_values)"
   ]
  },
  {
   "cell_type": "markdown",
   "metadata": {},
   "source": [
    "Observando la matriz de confusión, se tiene que ..."
   ]
  }
 ],
 "metadata": {
  "kernelspec": {
   "display_name": "Python 2",
   "language": "python",
   "name": "python2"
  },
  "language_info": {
   "codemirror_mode": {
    "name": "ipython",
    "version": 2
   },
   "file_extension": ".py",
   "mimetype": "text/x-python",
   "name": "python",
   "nbconvert_exporter": "python",
   "pygments_lexer": "ipython2",
   "version": "2.7.12"
  }
 },
 "nbformat": 4,
 "nbformat_minor": 2
}
