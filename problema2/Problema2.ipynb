{
 "cells": [
  {
   "cell_type": "markdown",
   "metadata": {},
   "source": [
    "# 2. CNNs en Google Street View "
   ]
  },
  {
   "cell_type": "markdown",
   "metadata": {},
   "source": [
    "** 2.0 Importación de módulos necesarios **"
   ]
  },
  {
   "cell_type": "code",
   "execution_count": 2,
   "metadata": {},
   "outputs": [
    {
     "name": "stderr",
     "output_type": "stream",
     "text": [
      "Using Theano backend.\n",
      "WARNING (theano.sandbox.cuda): The cuda backend is deprecated and will be removed in the next release (v0.10).  Please switch to the gpuarray backend. You can get more information about how to switch at this URL:\n",
      " https://github.com/Theano/Theano/wiki/Converting-to-the-new-gpu-back-end%28gpuarray%29\n",
      "\n",
      "Using gpu device 0: GeForce 820M (CNMeM is disabled, cuDNN not available)\n"
     ]
    }
   ],
   "source": [
    "import scipy.io as sio\n",
    "import numpy as np\n",
    "from keras.utils import np_utils\n",
    "from keras.models import Sequential\n",
    "from keras.layers.core import Dense, Dropout, Activation, Flatten\n",
    "from keras.layers.convolutional import Conv2D, MaxPooling2D, AveragePooling2D\n",
    "from keras.optimizers import SGD, Adadelta, Adagrad, Adam\n",
    "from keras import backend\n",
    "from sklearn.metrics import confusion_matrix\n",
    "import math\n",
    "import random\n",
    "import matplotlib.pyplot as plt"
   ]
  },
  {
   "cell_type": "markdown",
   "metadata": {},
   "source": [
    "**2.1 Construcción de conjuntos de datos**"
   ]
  },
  {
   "cell_type": "markdown",
   "metadata": {},
   "source": [
    "A partir de los archivos disponibles en formato Matlab, se construyen los conjuntos de entrenamiento y de prueba, separando los atributos predictores del atributo a predecir en primer lugar, para luego almacenarlos en matrices."
   ]
  },
  {
   "cell_type": "code",
   "execution_count": 3,
   "metadata": {
    "collapsed": true
   },
   "outputs": [],
   "source": [
    "# Se cargan datos de entrenamiento\n",
    "train_data = sio.loadmat('train_32x32.mat')\n",
    "# Se cargan datos de prueba\n",
    "test_data = sio.loadmat('test_32x32.mat')\n",
    "\n",
    "# Se crea conjunto de entrenamiento con atributos predictores\n",
    "X_train = train_data['X'].T.astype('float32')\n",
    "# Se crea conjunto de entrenamiento con atributo a predecir\n",
    "y_train = train_data['y'] - 1\n",
    "\n",
    "# Se crea conjunto de prueba con atributos predictores\n",
    "X_test = test_data['X'].T.astype('float32')\n",
    "# Se crea conjunto de prueba con atributo a predecir\n",
    "y_test = test_data['y'] - 1"
   ]
  },
  {
   "cell_type": "markdown",
   "metadata": {},
   "source": [
    "A continuación, se determinan las dimensiones de las imágenes."
   ]
  },
  {
   "cell_type": "code",
   "execution_count": 4,
   "metadata": {},
   "outputs": [
    {
     "data": {
      "text/plain": [
       "(73257, 3, 32, 32)"
      ]
     },
     "execution_count": 4,
     "metadata": {},
     "output_type": "execute_result"
    }
   ],
   "source": [
    "# Se determinan dimensiones y cantidad de ejemplos en conjunto de entrenamiento\n",
    "n_channels = X_train.shape[1]\n",
    "n_rows = X_train.shape[2]\n",
    "n_cols = X_train.shape[3]\n",
    "X_train.shape"
   ]
  },
  {
   "cell_type": "code",
   "execution_count": 5,
   "metadata": {},
   "outputs": [
    {
     "data": {
      "text/plain": [
       "(26032, 3, 32, 32)"
      ]
     },
     "execution_count": 5,
     "metadata": {},
     "output_type": "execute_result"
    }
   ],
   "source": [
    "# Se determinan dimensiones y cantidad de ejemplos en conjunto de prueba\n",
    "X_test.shape"
   ]
  },
  {
   "cell_type": "markdown",
   "metadata": {},
   "source": [
    "Los comandos anteriores muestran que se está trabajando con imágenes de 3 canales, 32 filas y 32 columnas. Además, el conjunto de entrenamiento está constituído por 73.257 ejemplos, mientras que el conjunto de pruebas está integrado por 26.032 ejemplos.\n",
    "\n",
    "Por otra parte, el siguiente comando permite determinar la cantidad de clases diferentes que existen en el problema."
   ]
  },
  {
   "cell_type": "code",
   "execution_count": 6,
   "metadata": {},
   "outputs": [
    {
     "name": "stdout",
     "output_type": "stream",
     "text": [
      "10\n"
     ]
    }
   ],
   "source": [
    "# Se obtiene número de clases del problema\n",
    "n_classes = len(np.unique(y_train))\n",
    "print n_classes"
   ]
  },
  {
   "cell_type": "markdown",
   "metadata": {},
   "source": [
    "Esto es, existen 10 clases diferentes en el problema, cada una asociada a un dígito.\n",
    "\n",
    "Además, se muestra la cantidad de ejemplos existentes por categoría para cada uno de los conjuntos de datos."
   ]
  },
  {
   "cell_type": "code",
   "execution_count": 7,
   "metadata": {},
   "outputs": [
    {
     "name": "stdout",
     "output_type": "stream",
     "text": [
      "Cantidad de ejemplos por categoría en conjunto de entrenamiento\n",
      "\n",
      "Dígito 0 : 13861 ejemplos\n",
      "Dígito 1 : 10585 ejemplos\n",
      "Dígito 2 : 8497 ejemplos\n",
      "Dígito 3 : 7458 ejemplos\n",
      "Dígito 4 : 6882 ejemplos\n",
      "Dígito 5 : 5727 ejemplos\n",
      "Dígito 6 : 5595 ejemplos\n",
      "Dígito 7 : 5045 ejemplos\n",
      "Dígito 8 : 4659 ejemplos\n",
      "Dígito 9 : 4948 ejemplos\n",
      "\n",
      "\n",
      "Cantidad de ejemplos por categoría en conjunto de pruebas\n",
      "\n",
      "Dígito 0 : 5099 ejemplos\n",
      "Dígito 1 : 4149 ejemplos\n",
      "Dígito 2 : 2882 ejemplos\n",
      "Dígito 3 : 2523 ejemplos\n",
      "Dígito 4 : 2384 ejemplos\n",
      "Dígito 5 : 1977 ejemplos\n",
      "Dígito 6 : 2019 ejemplos\n",
      "Dígito 7 : 1660 ejemplos\n",
      "Dígito 8 : 1595 ejemplos\n",
      "Dígito 9 : 1744 ejemplos\n"
     ]
    }
   ],
   "source": [
    "print 'Cantidad de ejemplos por categoría en conjunto de entrenamiento\\n'\n",
    "for i in range(n_classes):\n",
    "    print 'Dígito', i, ':', len(np.where(y_train == i)[0]), 'ejemplos'\n",
    "\n",
    "print('\\n')\n",
    "    \n",
    "print 'Cantidad de ejemplos por categoría en conjunto de pruebas\\n'\n",
    "for i in range(n_classes):\n",
    "    print 'Dígito', i, ':', len(np.where(y_test == i)[0]), 'ejemplos'"
   ]
  },
  {
   "cell_type": "markdown",
   "metadata": {},
   "source": [
    "Se puede ver que en el conjunto de entrenamiento existe una cantidad de ejemplos ampliamente mayor para los dígitos 0 y 1, lo que eventualmente puede llevar a que los modelos a implementar logren clasificar estos números con mayor precisión.\n",
    "\n",
    "Finalmente, se visualizan 10 imágenes: 5 del conjunto de entrenamiento y 5 del conjunto de pruebas, elegidas de forma totalmente aleatoria."
   ]
  },
  {
   "cell_type": "code",
   "execution_count": 8,
   "metadata": {},
   "outputs": [
    {
     "name": "stdout",
     "output_type": "stream",
     "text": [
      "Imágenes conjunto de entrenamiento\n"
     ]
    },
    {
     "data": {
      "image/png": "[encoded data removed]",
      "text/plain": [
       "<matplotlib.figure.Figure at 0x7ff8766a4950>"
      ]
     },
     "metadata": {},
     "output_type": "display_data"
    },
    {
     "name": "stdout",
     "output_type": "stream",
     "text": [
      "Imágenes conjunto de prueba\n"
     ]
    },
    {
     "data": {
      "image/png": "[encoded data removed]",
      "text/plain": [
       "<matplotlib.figure.Figure at 0x7ff81b3132d0>"
      ]
     },
     "metadata": {},
     "output_type": "display_data"
    }
   ],
   "source": [
    "print \"Imágenes conjunto de entrenamiento\"\n",
    "\n",
    "# Se seleccionan 5 imágenes de forma aleatoria a partir del conjunto de entrenamiento\n",
    "train_images = random.sample(X_train, 5)\n",
    "\n",
    "# Se grafican imágenes\n",
    "for i in range(0, len(train_images)):      \n",
    "    ax = plt.subplot(2, 5, 1 + i)\n",
    "    im = train_images[i].reshape(3 ,32, 32).transpose(2, 1, 0)\n",
    "    plt.imshow(im)\n",
    "    ax.get_xaxis().set_visible(False)\n",
    "    ax.get_yaxis().set_visible(False)\n",
    "        \n",
    "plt.show()\n",
    "\n",
    "print \"Imágenes conjunto de prueba\"\n",
    "\n",
    "# Se seleccionan 5 imágenes de forma aleatoria a partir del conjunto de prueba\n",
    "test_images = random.sample(X_test, 5)\n",
    "\n",
    "# Se grafican imágenes\n",
    "for i in range(0, len(test_images)):      \n",
    "    ax = plt.subplot(2, 5, 1 + i)\n",
    "    im = test_images[i].reshape(3 ,32, 32).transpose(2, 1, 0)\n",
    "    plt.imshow(im)\n",
    "    ax.get_xaxis().set_visible(False)\n",
    "    ax.get_yaxis().set_visible(False)\n",
    "        \n",
    "plt.show()"
   ]
  },
  {
   "cell_type": "markdown",
   "metadata": {},
   "source": [
    "Se puede ver que, en general, las imágenes son pocos nítidas, además de que en algunas de ellas se da la presencia de más de un dígito, desafíos que las redes a implementar deberán enfrentar en su entrenamiento."
   ]
  },
  {
   "cell_type": "markdown",
   "metadata": {},
   "source": [
    "** 2.2 Normalización de datos **"
   ]
  },
  {
   "cell_type": "markdown",
   "metadata": {},
   "source": [
    "Ya construídos los conjuntos de datos necesarios, se procede a normalizar las imágenes, para lo cual se dividen las intensidades de pixel de cada una de las imágenes de dichos conjuntos por 255, que corresponde al máximo valor posible que un pixel puede tener. De esta manera, cada imágen será manejada computacionalmente como una matriz de números entre 0 y 1."
   ]
  },
  {
   "cell_type": "code",
   "execution_count": 9,
   "metadata": {
    "collapsed": true
   },
   "outputs": [],
   "source": [
    "# Se dividen las intensidades de pixel por la intensidad máxima en ambos conjuntos de datos\n",
    "X_train /= 255.\n",
    "X_test /= 255."
   ]
  },
  {
   "cell_type": "markdown",
   "metadata": {},
   "source": [
    "Además, los vectores que almacenan las clases de cada ejemplo son transformados en matrices categóricas con el fin de poder computar el error asociado a cada ejemplo en cada unas de las fases del proceso de entrenamiento."
   ]
  },
  {
   "cell_type": "code",
   "execution_count": 10,
   "metadata": {
    "collapsed": true
   },
   "outputs": [],
   "source": [
    "# Vectores que contienen atributos a predecir son transformados en matrices categóricas\n",
    "Y_train = np_utils.to_categorical(y_train, n_classes)\n",
    "Y_test = np_utils.to_categorical(y_test, n_classes)"
   ]
  },
  {
   "cell_type": "markdown",
   "metadata": {},
   "source": [
    "En este punto, también es conveniente generar un conjunto de validación para la comparación de diferentes arquitecturas en las siguientes secciones. Para esto, se extraerá aproximádamente el 20% final de los registros (14.651 registros) del conjunto de entrenamiento para construir el conjunto de validación, quedando el 80% restante como conjunto de entrenamiento (58.606 registros)."
   ]
  },
  {
   "cell_type": "code",
   "execution_count": 11,
   "metadata": {
    "collapsed": true
   },
   "outputs": [],
   "source": [
    "# Se construye conjunto de validación y posteriormente se reestructura conjunto de entrenamiento\n",
    "X_val = X_train[int(math.ceil(0.8 * X_train.shape[0])) : , :, :, :]\n",
    "Y_val = Y_train[int(math.ceil(0.8 * Y_train.shape[0])) :]\n",
    "X_train = X_train[: int(math.ceil(0.8 * X_train.shape[0])), :, :, :]\n",
    "Y_train = Y_train[: int(math.ceil(0.8 * Y_train.shape[0])), :]"
   ]
  },
  {
   "cell_type": "markdown",
   "metadata": {},
   "source": [
    "** 2.3 Construcción de modelo clasificador **"
   ]
  },
  {
   "cell_type": "markdown",
   "metadata": {},
   "source": [
    "En esta sección, se construye un modelo clasificador por medio del entrenamiento de una red convolucional. Su arquitectura base es *C* X *P* X *C* X *P* X *F* X *F*. Las capas de la red poseen las características que se detallan a continuación:\n",
    "\n",
    "- La primera capa convolucional utiliza 16 filtros de dimensiones 5 x 5.\n",
    "- La segunda capa convolucional utiliza 512 filtros de dimensiones 7 x 7.\n",
    "- Ambas capas convolucionales son de tipo 2D.\n",
    "- Entre cada una de las capas convolucionales se sitúa una capa de tipo max pooling (capa de reducción), las que escalan las dimensiones del input recibido en un factor de 2.\n",
    "- La capa densa está compuesta por 20 neuronas.\n",
    "- Entre la última capa de reducción y la capa densa se sitúa una capa de tipo flatten para la generación del vector de características a ser procesado por la capa densa.\n",
    "- Tanto en las capas convolucionales como en la capa densa se utiliza la función de activación relu. \n",
    "- La capa de salida posee 10 neuronas y en ella se aplica la función de activación softmax.\n",
    "\n",
    "El código utilizado para implementar la red previamente descrita es mostrado a continuación:"
   ]
  },
  {
   "cell_type": "code",
   "execution_count": 25,
   "metadata": {
    "collapsed": true
   },
   "outputs": [],
   "source": [
    "# Definición de arquitectura convolucional\n",
    "# Se crea modelo vacío\n",
    "original_model = Sequential()\n",
    "# Se añade primera capa convolucional\n",
    "original_model.add(Conv2D(16, (5, 5), padding='same', activation='relu', input_shape=(n_rows, n_cols, n_channels)))\n",
    "# Se agrega primera capa de reducción\n",
    "original_model.add(MaxPooling2D(pool_size=(2,2)))\n",
    "# Se introduce segunda capa convolucional\n",
    "original_model.add(Conv2D(512, (7, 7), padding='same', activation='relu'))\n",
    "# Se añade segunda capa de reducción\n",
    "original_model.add(MaxPooling2D(pool_size=(2,2)))\n",
    "# Se agrega capa de tipo flatten\n",
    "original_model.add(Flatten())\n",
    "# Se introduce capa densa\n",
    "original_model.add(Dense(20, activation='relu'))\n",
    "# Se añade capa de salida\n",
    "original_model.add(Dense(n_classes, activation='softmax'))"
   ]
  },
  {
   "cell_type": "markdown",
   "metadata": {
    "collapsed": true
   },
   "source": [
    "Ya definido el modelo con que se trabajará, es interesante observar como las dimensiones de un input determinado cambian a medida que este es procesado por cada una de las capas de la red. A continuación, se muestra una tabla resumen en la que, por cada capa, se específican las dimensiones del output producido y la cantidad de parámetros que posee."
   ]
  },
  {
   "cell_type": "code",
   "execution_count": 26,
   "metadata": {},
   "outputs": [
    {
     "name": "stdout",
     "output_type": "stream",
     "text": [
      "_________________________________________________________________\n",
      "Layer (type)                 Output Shape              Param #   \n",
      "=================================================================\n",
      "conv2d_3 (Conv2D)            (None, 32, 32, 16)        1216      \n",
      "_________________________________________________________________\n",
      "max_pooling2d_3 (MaxPooling2 (None, 16, 16, 16)        0         \n",
      "_________________________________________________________________\n",
      "conv2d_4 (Conv2D)            (None, 16, 16, 512)       401920    \n",
      "_________________________________________________________________\n",
      "max_pooling2d_4 (MaxPooling2 (None, 8, 8, 512)         0         \n",
      "_________________________________________________________________\n",
      "flatten_2 (Flatten)          (None, 32768)             0         \n",
      "_________________________________________________________________\n",
      "dense_3 (Dense)              (None, 20)                655380    \n",
      "_________________________________________________________________\n",
      "dense_4 (Dense)              (None, 10)                210       \n",
      "=================================================================\n",
      "Total params: 1,058,726\n",
      "Trainable params: 1,058,726\n",
      "Non-trainable params: 0\n",
      "_________________________________________________________________\n"
     ]
    }
   ],
   "source": [
    "# Se obtiene información acerca del modelo definido\n",
    "original_model.summary()"
   ]
  },
  {
   "cell_type": "markdown",
   "metadata": {},
   "source": [
    "Se sabe que, en este problema, los inputs originales poseen dimensiones (número de filas de la imágen, número de columnas de la imágen, número de canales de la imágen). Específicamente, cada imágen del dataset con que se está trabajando posee dimensiones (32, 32, 3). Luego, se tiene, por ejemplo, que después de ser procesadas por la primera capa convolucional, las imágenes aumentan su número de canales de 3 a 16. Por otro lado, la primera capa de reducción reduce a la mitad tanto el número de filas como de columnas de la imágen, manteniendo el número de canales anterior. Otro caso notable es lo que ocurre con la capa de tipo flatten, la que se encarga de \"destruir\" la estructura tridimensional de la imágen, convirtiendo cada una de ellas en un vector de tamaño número de filas * número de columnas * número de canales, con el fin de que puedan ser procesadas de forma adecuada por la capa densa. Se observa, además, que el modelo posee un total de 1.058.726 parámetros.\n",
    "\n",
    "Ahora, se procede a entrenar el modelo previamente definido. Considerando que se está tratando un problema donde las clases son mutuamente excluyentes y además existen más de 2 clases, lo más apropiado es usar la función de pérdida *categorical crossentropy*. Se utilizará el método de entrenamiento *adagrad*, con el fin de adaptar la tasa de aprendizaje en cada iteración de entrenamiento. Se usará una tasa de aprendizaje inicial de 1e-08, batches de tamaño 256 y 10 epochs."
   ]
  },
  {
   "cell_type": "code",
   "execution_count": 12,
   "metadata": {
    "collapsed": true
   },
   "outputs": [],
   "source": [
    "# Dada la actualización de la API de Keras, es necesario redimensionar las imágenes\n",
    "X_train_ = X_train.reshape((X_train.shape[0], n_rows, n_cols, n_channels))\n",
    "X_val_ = X_val.reshape((X_val.shape[0], n_rows, n_cols, n_channels))\n",
    "X_test_ = X_test.reshape((X_test.shape[0], n_rows, n_cols, n_channels))"
   ]
  },
  {
   "cell_type": "code",
   "execution_count": 27,
   "metadata": {},
   "outputs": [
    {
     "name": "stdout",
     "output_type": "stream",
     "text": [
      "Train on 58606 samples, validate on 14651 samples\n",
      "Epoch 1/10\n",
      "58606/58606 [==============================] - 696s - loss: 3.2568 - acc: 0.1985 - val_loss: 1.9895 - val_acc: 0.2935\n",
      "Epoch 2/10\n",
      "58606/58606 [==============================] - 700s - loss: 1.8473 - acc: 0.3762 - val_loss: 1.5891 - val_acc: 0.4971\n",
      "Epoch 3/10\n",
      "58606/58606 [==============================] - 703s - loss: 1.3835 - acc: 0.5586 - val_loss: 1.2727 - val_acc: 0.5855\n",
      "Epoch 4/10\n",
      "58606/58606 [==============================] - 706s - loss: 1.0142 - acc: 0.6911 - val_loss: 0.9205 - val_acc: 0.7206\n",
      "Epoch 5/10\n",
      "58606/58606 [==============================] - 713s - loss: 0.8318 - acc: 0.7519 - val_loss: 0.7897 - val_acc: 0.7627\n",
      "Epoch 6/10\n",
      "58606/58606 [==============================] - 710s - loss: 0.7326 - acc: 0.7827 - val_loss: 0.7167 - val_acc: 0.7878\n",
      "Epoch 7/10\n",
      "58606/58606 [==============================] - 717s - loss: 0.6736 - acc: 0.8018 - val_loss: 0.6889 - val_acc: 0.7910\n",
      "Epoch 8/10\n",
      "58606/58606 [==============================] - 726s - loss: 0.6283 - acc: 0.8165 - val_loss: 0.6588 - val_acc: 0.8085\n",
      "Epoch 9/10\n",
      "58606/58606 [==============================] - 716s - loss: 0.5973 - acc: 0.8255 - val_loss: 0.6216 - val_acc: 0.8189\n",
      "Epoch 10/10\n",
      "58606/58606 [==============================] - 708s - loss: 0.5656 - acc: 0.8355 - val_loss: 0.6017 - val_acc: 0.8238\n"
     ]
    },
    {
     "data": {
      "text/plain": [
       "<keras.callbacks.History at 0x7fde18ea1a10>"
      ]
     },
     "execution_count": 27,
     "metadata": {},
     "output_type": "execute_result"
    }
   ],
   "source": [
    "# Se definen la función de pérdida a utilizar y el método de entrenamiento\n",
    "original_model.compile(loss='categorical_crossentropy', optimizer='adagrad', metrics=['accuracy'])\n",
    "# Se entrena modelo\n",
    "original_model.fit(X_train_, Y_train, batch_size=256, epochs=10, verbose=1, validation_data=(X_val_, Y_val))"
   ]
  },
  {
   "cell_type": "markdown",
   "metadata": {},
   "source": [
    "Se observa que la precisión de entrenamiento alcanzada es un de 83,55%, mientras que la de validación es de un 82,38%. Además, el tiempo total de entrenamiento fue de 7095 [s] . Finalmente, se evalúa el modelo construído sobre el conjunto de prueba."
   ]
  },
  {
   "cell_type": "code",
   "execution_count": 29,
   "metadata": {},
   "outputs": [
    {
     "name": "stdout",
     "output_type": "stream",
     "text": [
      "26016/26032 [============================>.] - ETA: 0s\n",
      "Precision sobre conjunto de pruebas: 82.8326674862 %\n"
     ]
    }
   ],
   "source": [
    "original_model_scores = original_model.evaluate(X_test_, Y_test)\n",
    "print '\\nPrecision sobre conjunto de pruebas:', original_model_scores[1] * 100, '%'"
   ]
  },
  {
   "cell_type": "markdown",
   "metadata": {},
   "source": [
    "Luego, se obtiene una precisión de prueba del 82,83%, inferior a la precisión *state-of-the-art*, que es de un 94,28%."
   ]
  },
  {
   "cell_type": "markdown",
   "metadata": {},
   "source": [
    "**2.4 Modificando el tamaño de los filtros**"
   ]
  },
  {
   "cell_type": "markdown",
   "metadata": {},
   "source": [
    "En esta sección, se evalúan los efectos de modificar tanto el tamaño de los filtros utilizados en las capas convolucionales como el factor de reducción de las capas de pooling. Específicamente, se desea saber como tales modificaciones benefician o bien perjudican la precisión obtenida sobre el conjunto de pruebas."
   ]
  },
  {
   "cell_type": "markdown",
   "metadata": {},
   "source": [
    "**2.4.1 Primer caso: Filtros de 7 x 7, pooling de 4 x 4**"
   ]
  },
  {
   "cell_type": "markdown",
   "metadata": {},
   "source": [
    "En primer lugar, se experimentará utilizando filtros de tamaño 7 x 7 en cada capa convolucional, por lo que, en la segunda de estas, el tamaño de los filtros se mantiene, mientras que en la primera, se reduce en dos unidades. También, el factor de reducción presente en las capas de pooling será aumentado a 4, esto es, los inputs recibidos por estas capas serán reducidos a la cuarta parte en cada dimensión."
   ]
  },
  {
   "cell_type": "code",
   "execution_count": 12,
   "metadata": {
    "collapsed": true
   },
   "outputs": [],
   "source": [
    "model_7x4 = Sequential()\n",
    "# Se añade primera capa convolucional, con filtros de tamaño 7 x 7\n",
    "model_7x4.add(Conv2D(16, (7, 7), padding='same', activation='relu', input_shape=(n_rows, n_cols, n_channels)))\n",
    "# Se agrega primera capa de reducción, reduciendo factor de pooling a 4 en cada dimensión\n",
    "model_7x4.add(MaxPooling2D(pool_size=(4, 4)))\n",
    "# Se introduce segunda capa convolucional, idéntica a la anterior\n",
    "model_7x4.add(Conv2D(512, (7, 7), padding='same', activation='relu'))\n",
    "# Se añade segunda capa de reducción, idéntica a la anterior\n",
    "model_7x4.add(MaxPooling2D(pool_size=(4, 4)))\n",
    "# Se agrega capa de tipo flatten\n",
    "model_7x4.add(Flatten())\n",
    "# Se introduce capa densa\n",
    "model_7x4.add(Dense(20, activation='relu'))\n",
    "# Se añade capa de salida\n",
    "model_7x4.add(Dense(n_classes, activation='softmax'))"
   ]
  },
  {
   "cell_type": "markdown",
   "metadata": {},
   "source": [
    "Ya definido este nuevo modelo, se procede a entrenarlo."
   ]
  },
  {
   "cell_type": "code",
   "execution_count": 14,
   "metadata": {},
   "outputs": [
    {
     "name": "stdout",
     "output_type": "stream",
     "text": [
      "Train on 58606 samples, validate on 14651 samples\n",
      "Epoch 1/10\n",
      "58606/58606 [==============================] - 539s - loss: 1.7743 - acc: 0.3670 - val_loss: 1.6662 - val_acc: 0.3993\n",
      "Epoch 2/10\n",
      "58606/58606 [==============================] - 278s - loss: 1.6233 - acc: 0.4105 - val_loss: 1.5700 - val_acc: 0.4516\n",
      "Epoch 3/10\n",
      "58606/58606 [==============================] - 282s - loss: 1.5124 - acc: 0.4686 - val_loss: 1.4591 - val_acc: 0.4985\n",
      "Epoch 4/10\n",
      "58606/58606 [==============================] - 280s - loss: 1.4028 - acc: 0.5253 - val_loss: 1.3809 - val_acc: 0.5173\n",
      "Epoch 5/10\n",
      "58606/58606 [==============================] - 281s - loss: 1.3254 - acc: 0.5526 - val_loss: 1.3160 - val_acc: 0.5642\n",
      "Epoch 6/10\n",
      "58606/58606 [==============================] - 281s - loss: 1.2753 - acc: 0.5683 - val_loss: 1.3032 - val_acc: 0.5498\n",
      "Epoch 7/10\n",
      "58606/58606 [==============================] - 281s - loss: 1.2339 - acc: 0.5807 - val_loss: 1.2385 - val_acc: 0.5826\n",
      "Epoch 8/10\n",
      "58606/58606 [==============================] - 281s - loss: 1.2025 - acc: 0.5919 - val_loss: 1.2076 - val_acc: 0.5887\n",
      "Epoch 9/10\n",
      "58606/58606 [==============================] - 281s - loss: 1.1732 - acc: 0.6011 - val_loss: 1.1856 - val_acc: 0.6045\n",
      "Epoch 10/10\n",
      "58606/58606 [==============================] - 281s - loss: 1.1476 - acc: 0.6092 - val_loss: 1.1749 - val_acc: 0.5910\n"
     ]
    }
   ],
   "source": [
    "# Se definen la función de pérdida a utilizar y el método de entrenamiento\n",
    "model_7x4.compile(loss='categorical_crossentropy', optimizer='adagrad', metrics=['accuracy'])\n",
    "# Se entrena modelo\n",
    "model_7x4_history = model_7x4.fit(X_train_, Y_train, batch_size=256, epochs=10, verbose=1, validation_data=(X_val_, Y_val))\n",
    "model_7x4.save('model_7x4.h5')"
   ]
  },
  {
   "cell_type": "markdown",
   "metadata": {},
   "source": [
    "Luego, se evalúa el modelo sobre el conjunto de pruebas."
   ]
  },
  {
   "cell_type": "code",
   "execution_count": 27,
   "metadata": {},
   "outputs": [
    {
     "name": "stdout",
     "output_type": "stream",
     "text": [
      "26016/26032 [============================>.] - ETA: 0s\n",
      "Precision sobre conjunto de pruebas: 60.8750768285 %\n"
     ]
    }
   ],
   "source": [
    "model_7x4_scores = model_7x4.evaluate(X_test_, Y_test)\n",
    "print '\\nPrecision sobre conjunto de pruebas:', model_7x4_scores[1] * 100, '%'"
   ]
  },
  {
   "cell_type": "markdown",
   "metadata": {},
   "source": [
    "Se observa se obtiene una precisión del 60,88% sobre el conjunto de prueba, siendo bastante menor a la precisión obtenida por la arquitectura definida originalmente. Sin embargo, el tiempo de entrenamiento fue de 3065 [s], considerablemente menor que el de la primera arquitectura."
   ]
  },
  {
   "cell_type": "markdown",
   "metadata": {},
   "source": [
    "**2.4.2 Segundo caso: Filtros de 5 x 5, pooling de 4 x 4**"
   ]
  },
  {
   "cell_type": "markdown",
   "metadata": {},
   "source": [
    "Ahora, se estudiará el efecto de que los filtros convolucionales sean de tamaño 5 x 5 en cada capa convolucional. Además, el factor de reducción utilizado en la sección anterior se mantendrá."
   ]
  },
  {
   "cell_type": "code",
   "execution_count": 16,
   "metadata": {
    "collapsed": true
   },
   "outputs": [],
   "source": [
    "model_5x4 = Sequential()\n",
    "# Se añade primera capa convolucional, manteniendo constante el tamaño de los filtros\n",
    "model_5x4.add(Conv2D(16, (5, 5), padding='same', activation='relu', input_shape=(n_rows, n_cols, n_channels)))\n",
    "# Se agrega primera capa de reducción, aumentando factor de pooling a 4 en cada dimensión\n",
    "model_5x4.add(MaxPooling2D(pool_size=(4, 4)))\n",
    "# Se introduce segunda capa convolucional, idéntica a la anterior\n",
    "model_5x4.add(Conv2D(512, (5, 5), padding='same', activation='relu'))\n",
    "# Se añade segunda capa de reducción, idéntica a la anterior\n",
    "model_5x4.add(MaxPooling2D(pool_size=(4, 4)))\n",
    "# Se agrega capa de tipo flatten\n",
    "model_5x4.add(Flatten())\n",
    "# Se introduce capa densa\n",
    "model_5x4.add(Dense(20, activation='relu'))\n",
    "# Se añade capa de salida\n",
    "model_5x4.add(Dense(n_classes, activation='softmax'))"
   ]
  },
  {
   "cell_type": "markdown",
   "metadata": {},
   "source": [
    "Así, se procede a entrenar este modelo."
   ]
  },
  {
   "cell_type": "code",
   "execution_count": 17,
   "metadata": {},
   "outputs": [
    {
     "name": "stdout",
     "output_type": "stream",
     "text": [
      "Train on 58606 samples, validate on 14651 samples\n",
      "Epoch 1/10\n",
      "58606/58606 [==============================] - 201s - loss: 2.2877 - acc: 0.1882 - val_loss: 2.1658 - val_acc: 0.2012\n",
      "Epoch 2/10\n",
      "58606/58606 [==============================] - 201s - loss: 2.0400 - acc: 0.2880 - val_loss: 1.8433 - val_acc: 0.4224\n",
      "Epoch 3/10\n",
      "58606/58606 [==============================] - 201s - loss: 1.6642 - acc: 0.4585 - val_loss: 1.5436 - val_acc: 0.4696\n",
      "Epoch 4/10\n",
      "58606/58606 [==============================] - 201s - loss: 1.3954 - acc: 0.5479 - val_loss: 1.2989 - val_acc: 0.5793\n",
      "Epoch 5/10\n",
      "58606/58606 [==============================] - 201s - loss: 1.2325 - acc: 0.6047 - val_loss: 1.2477 - val_acc: 0.5934\n",
      "Epoch 6/10\n",
      "58606/58606 [==============================] - 201s - loss: 1.1280 - acc: 0.6396 - val_loss: 1.0798 - val_acc: 0.6683\n",
      "Epoch 7/10\n",
      "58606/58606 [==============================] - 201s - loss: 1.0496 - acc: 0.6674 - val_loss: 1.1099 - val_acc: 0.6314\n",
      "Epoch 8/10\n",
      "58606/58606 [==============================] - 201s - loss: 0.9909 - acc: 0.6891 - val_loss: 0.9778 - val_acc: 0.6940\n",
      "Epoch 9/10\n",
      "58606/58606 [==============================] - 201s - loss: 0.9455 - acc: 0.7048 - val_loss: 0.9368 - val_acc: 0.7148\n",
      "Epoch 10/10\n",
      "58606/58606 [==============================] - 201s - loss: 0.9050 - acc: 0.7196 - val_loss: 0.9009 - val_acc: 0.7184\n"
     ]
    }
   ],
   "source": [
    "model_5x4.compile(loss='categorical_crossentropy', optimizer='adagrad', metrics=['accuracy'])\n",
    "model_5x4_history = model_5x4.fit(X_train_, Y_train, batch_size=256, epochs=10, verbose=1, validation_data=(X_val_, Y_val))\n",
    "model_5x4.save('model_5x4.h5')"
   ]
  },
  {
   "cell_type": "markdown",
   "metadata": {},
   "source": [
    "Ya entrenado el modelo, este es evaluado sobre el conjunto de pruebas."
   ]
  },
  {
   "cell_type": "code",
   "execution_count": 18,
   "metadata": {},
   "outputs": [
    {
     "name": "stdout",
     "output_type": "stream",
     "text": [
      "26032/26032 [==============================] - 17s    \n",
      "Precision sobre conjunto de pruebas: 74.0626920713 %\n"
     ]
    }
   ],
   "source": [
    "model_5x4_scores = model_5x4.evaluate(X_test_, Y_test)\n",
    "print 'Precision sobre conjunto de pruebas:', model_5x4_scores[1] * 100, '%'"
   ]
  },
  {
   "cell_type": "markdown",
   "metadata": {},
   "source": [
    "En consecuencia, la nueva precisión de prueba que se obtiene es de un 74,06%, empeorando respecto a la arquitectura original, pero aumentando respecto a la precisión obtenida en la sección 2.4.1. Por otro lado, el tiempo total de entrenamiento fue de 2010 [s], el menor de todos hasta ahora."
   ]
  },
  {
   "cell_type": "markdown",
   "metadata": {},
   "source": [
    "**2.4.3 Tercer caso: Filtros de 9 x 9, pooling de 2 x 2**"
   ]
  },
  {
   "cell_type": "markdown",
   "metadata": {},
   "source": [
    "En esta subsección, se analizará el efecto de aumentar considerablemente el tamaño de los filtros utilizados en las capas convolucionales, siendo sus tamaños de 9 x 9. Además, el factor de reducción en las capas de pooling será disminuido nuevamente a 2 x 2."
   ]
  },
  {
   "cell_type": "code",
   "execution_count": 19,
   "metadata": {
    "collapsed": true
   },
   "outputs": [],
   "source": [
    "model_9x2 = Sequential()\n",
    "# Se añade primera capa convolucional, aumentando tamaño de los filtros a 9 en cada dimensión\n",
    "model_9x2.add(Conv2D(16, (9, 9), padding='same', activation='relu', input_shape=(n_rows, n_cols, n_channels)))\n",
    "# Se agrega primera capa de reducción, reduciendo el factor de pooling a 2 en cada dimensión\n",
    "model_9x2.add(MaxPooling2D(pool_size=(2, 2)))\n",
    "# Se introduce segunda capa convolucional, idéntica a la anterior\n",
    "model_9x2.add(Conv2D(512, (9, 9), padding='same', activation='relu'))\n",
    "# Se añade segunda capa de reducción, idéntica a la anterior\n",
    "model_9x2.add(MaxPooling2D(pool_size=(2, 2)))\n",
    "# Se agrega capa de tipo flatten\n",
    "model_9x2.add(Flatten())\n",
    "# Se introduce capa densa\n",
    "model_9x2.add(Dense(20, activation='relu'))\n",
    "# Se añade capa de salida\n",
    "model_9x2.add(Dense(n_classes, activation='softmax'))"
   ]
  },
  {
   "cell_type": "markdown",
   "metadata": {},
   "source": [
    "Se procede a entrenar el modelo definido."
   ]
  },
  {
   "cell_type": "code",
   "execution_count": 20,
   "metadata": {},
   "outputs": [
    {
     "name": "stdout",
     "output_type": "stream",
     "text": [
      "Train on 58606 samples, validate on 14651 samples\n",
      "Epoch 1/10\n",
      "58606/58606 [==============================] - 900s - loss: 14.2049 - acc: 0.1153 - val_loss: 14.2182 - val_acc: 0.1179\n",
      "Epoch 2/10\n",
      "58606/58606 [==============================] - 900s - loss: 14.2562 - acc: 0.1155 - val_loss: 14.2182 - val_acc: 0.1179\n",
      "Epoch 3/10\n",
      "58606/58606 [==============================] - 899s - loss: 14.2562 - acc: 0.1155 - val_loss: 14.2182 - val_acc: 0.1179\n",
      "Epoch 4/10\n",
      "58606/58606 [==============================] - 899s - loss: 14.2562 - acc: 0.1155 - val_loss: 14.2182 - val_acc: 0.1179\n",
      "Epoch 5/10\n",
      "58606/58606 [==============================] - 898s - loss: 14.2562 - acc: 0.1155 - val_loss: 14.2182 - val_acc: 0.1179\n",
      "Epoch 6/10\n",
      "58606/58606 [==============================] - 898s - loss: 14.2562 - acc: 0.1155 - val_loss: 14.2182 - val_acc: 0.1179\n",
      "Epoch 7/10\n",
      "58606/58606 [==============================] - 898s - loss: 14.2562 - acc: 0.1155 - val_loss: 14.2182 - val_acc: 0.1179\n",
      "Epoch 8/10\n",
      "58606/58606 [==============================] - 897s - loss: 14.2562 - acc: 0.1155 - val_loss: 14.2182 - val_acc: 0.1179\n",
      "Epoch 9/10\n",
      "58606/58606 [==============================] - 897s - loss: 14.2562 - acc: 0.1155 - val_loss: 14.2182 - val_acc: 0.1179\n",
      "Epoch 10/10\n",
      "58606/58606 [==============================] - 898s - loss: 14.2562 - acc: 0.1155 - val_loss: 14.2182 - val_acc: 0.1179\n"
     ]
    }
   ],
   "source": [
    "model_9x2.compile(loss='categorical_crossentropy', optimizer='adagrad', metrics=['accuracy'])\n",
    "model_9x2_history = model_9x2.fit(X_train_, Y_train, batch_size=256, epochs=10, verbose=1, validation_data=(X_val_, Y_val))"
   ]
  },
  {
   "cell_type": "markdown",
   "metadata": {},
   "source": [
    "Con el modelo entrenado, se procede a determinar la precisión de prueba."
   ]
  },
  {
   "cell_type": "code",
   "execution_count": 21,
   "metadata": {},
   "outputs": [
    {
     "name": "stdout",
     "output_type": "stream",
     "text": [
      "26032/26032 [==============================] - 94s    \n",
      "Precision sobre conjunto de pruebas: 11.0709895513 %\n"
     ]
    }
   ],
   "source": [
    "model_9x2_scores = model_9x2.evaluate(X_test_, Y_test)\n",
    "print 'Precision sobre conjunto de pruebas:', model_9x2_scores[1] * 100, '%'\n",
    "model_9x2.save('model_9x2.h5')"
   ]
  },
  {
   "cell_type": "markdown",
   "metadata": {},
   "source": [
    "Se observa, entonces, que la nueva precisión de prueba es un pobrísimo 11,07%, empeorando notablemente respecto a cualquier arquitectura implementada hasta ahora. Para empeorar las cosas, el tiempo de entrenamiento es el más alto de todos: 8984 [s]."
   ]
  },
  {
   "cell_type": "markdown",
   "metadata": {},
   "source": [
    "**2.4.4 Cuarto caso: Filtros de 3 x 3, pooling de 2 x 2**"
   ]
  },
  {
   "cell_type": "markdown",
   "metadata": {},
   "source": [
    "Finalmente, se estudiará el efecto de disminuir notablemente el tamaño de los filtros utilizados en las capas convolucionales, siendo estos de 3 x 3. Además, el factor de reducción en las capas de pooling continuará siendo de 2 x 2."
   ]
  },
  {
   "cell_type": "code",
   "execution_count": 22,
   "metadata": {
    "collapsed": true
   },
   "outputs": [],
   "source": [
    "model_3x2 = Sequential()\n",
    "# Se añade primera capa convolucional, disminuyendo tamaño de los filtros a 3 en cada dimensión\n",
    "model_3x2.add(Conv2D(16, (3, 3), padding='same', activation='relu', input_shape=(n_rows, n_cols, n_channels)))\n",
    "# Se agrega primera capa de reducción, manteniendo el factor de pooling a 2 en cada dimensión\n",
    "model_3x2.add(MaxPooling2D(pool_size=(2, 2)))\n",
    "# Se introduce segunda capa convolucional, idéntica a la anterior\n",
    "model_3x2.add(Conv2D(512, (3, 3), padding='same', activation='relu'))\n",
    "# Se añade segunda capa de reducción, idéntica a la anterior\n",
    "model_3x2.add(MaxPooling2D(pool_size=(2, 2)))\n",
    "# Se agrega capa de tipo flatten\n",
    "model_3x2.add(Flatten())\n",
    "# Se introduce capa densa\n",
    "model_3x2.add(Dense(20, activation='relu'))\n",
    "# Se añade capa de salida\n",
    "model_3x2.add(Dense(n_classes, activation='softmax'))"
   ]
  },
  {
   "cell_type": "markdown",
   "metadata": {},
   "source": [
    "Se entrena el modelo definido."
   ]
  },
  {
   "cell_type": "code",
   "execution_count": 23,
   "metadata": {},
   "outputs": [
    {
     "name": "stdout",
     "output_type": "stream",
     "text": [
      "Train on 58606 samples, validate on 14651 samples\n",
      "Epoch 1/10\n",
      "58606/58606 [==============================] - 489s - loss: 2.0544 - acc: 0.2839 - val_loss: 1.6264 - val_acc: 0.4562\n",
      "Epoch 2/10\n",
      "58606/58606 [==============================] - 489s - loss: 1.3384 - acc: 0.5582 - val_loss: 1.1113 - val_acc: 0.6559\n",
      "Epoch 3/10\n",
      "58606/58606 [==============================] - 489s - loss: 1.0057 - acc: 0.6852 - val_loss: 0.9500 - val_acc: 0.7178\n",
      "Epoch 4/10\n",
      "58606/58606 [==============================] - 489s - loss: 0.8700 - acc: 0.7326 - val_loss: 0.8447 - val_acc: 0.7378\n",
      "Epoch 5/10\n",
      "58606/58606 [==============================] - 489s - loss: 0.7926 - acc: 0.7577 - val_loss: 0.7777 - val_acc: 0.7647\n",
      "Epoch 6/10\n",
      "58606/58606 [==============================] - 489s - loss: 0.7395 - acc: 0.7766 - val_loss: 0.7367 - val_acc: 0.7759\n",
      "Epoch 7/10\n",
      "58606/58606 [==============================] - 489s - loss: 0.6976 - acc: 0.7911 - val_loss: 0.7045 - val_acc: 0.7881\n",
      "Epoch 8/10\n",
      "58606/58606 [==============================] - 489s - loss: 0.6640 - acc: 0.8028 - val_loss: 0.6939 - val_acc: 0.7883\n",
      "Epoch 9/10\n",
      "58606/58606 [==============================] - 489s - loss: 0.6381 - acc: 0.8107 - val_loss: 0.6747 - val_acc: 0.7938\n",
      "Epoch 10/10\n",
      "58606/58606 [==============================] - 489s - loss: 0.6145 - acc: 0.8190 - val_loss: 0.6471 - val_acc: 0.8072\n"
     ]
    }
   ],
   "source": [
    "model_3x2.compile(loss='categorical_crossentropy', optimizer='adagrad', metrics=['accuracy'])\n",
    "model_3x2_history = model_3x2.fit(X_train_, Y_train, batch_size=256, epochs=10, verbose=1, validation_data=(X_val_, Y_val))"
   ]
  },
  {
   "cell_type": "markdown",
   "metadata": {},
   "source": [
    "Con la arquitectura ya entrada, se determina la precisión sobre el conjunto de prueba."
   ]
  },
  {
   "cell_type": "code",
   "execution_count": 24,
   "metadata": {},
   "outputs": [
    {
     "name": "stdout",
     "output_type": "stream",
     "text": [
      "26032/26032 [==============================] - 36s    \n",
      "Precision sobre conjunto de pruebas: 79.9708051629 %\n"
     ]
    }
   ],
   "source": [
    "model_3x2_scores = model_3x2.evaluate(X_test_, Y_test)\n",
    "print 'Precision sobre conjunto de pruebas:', model_3x2_scores[1] * 100, '%'\n",
    "model_3x2.save('model_3x2.h5')"
   ]
  },
  {
   "cell_type": "markdown",
   "metadata": {},
   "source": [
    "Se puede ver que la precisión de prueba es de un 79,97%, disminuyendo respecto a la arquitectura original, pero presentando el mejor rendimiento de todos los modelos implementados en esta sección. Así, se tiene que esta arquitectura es la que logra obtener los mejores resultados después de la original. Por otra parte, el tiempo de entrenamiento fue de 2890 [s], siendo el segundo mejor modelo según esta variable."
   ]
  },
  {
   "cell_type": "markdown",
   "metadata": {},
   "source": [
    "En este punto, resulta interesante comparar la evolución de la precisión de entrenamiento en función del número de epochs para cada uno de los tres casos estudiados en esta sección."
   ]
  },
  {
   "cell_type": "code",
   "execution_count": 26,
   "metadata": {},
   "outputs": [
    {
     "data": {
      "image/png": "[encoded data removed]",
      "text/plain": [
       "<matplotlib.figure.Figure at 0x7fd11bad43d0>"
      ]
     },
     "metadata": {},
     "output_type": "display_data"
    }
   ],
   "source": [
    "plt.plot(model_7x4_history.history['acc'])\n",
    "plt.plot(model_5x4_history.history['acc'])\n",
    "plt.plot(model_9x2_history.history['acc'])\n",
    "plt.plot(model_3x2_history.history['acc'])\n",
    "plt.title('Comparacion de precision de entrenamiento')\n",
    "plt.ylabel('Precision')\n",
    "plt.xlabel('Epoch')\n",
    "plt.legend(['7|4', '5|4', '9|2', '3|2'], loc='upper left')\n",
    "plt.show()"
   ]
  },
  {
   "cell_type": "markdown",
   "metadata": {},
   "source": [
    "El gráfico anterior da cuenta de como la precisión para el tercer caso (filtros de 9 x 9, *pool size* de 2 x 2) no mejora en ningún momento. Además, es importante notar que la precisión del primer caso (filtros de 7 x 7, *pool size* de 4 x 4) comienza en un valor más alto respecto a los dos casos restantes, pero su evolución se estanca rapidamente. Las arquitecturas del segundo y cuarto caso corresponden a los modelos que presentan mayores cambios de precisión a lo largo del proceso de entrenamiento.\n",
    "\n",
    "También resulta interesante observar como evoluciona la función de pérdida en base a la cantidad de epochs llevadas a cabo, en cada caso. Notar que no se ha graficado la pérdida para el caso de filtros de 9 x 9 y *pool size* de 2 x 2, puesto que el alto (y constante) valor de su función de pérdida no permitiría visualizar de forma apropiada las pérdidas de los demás modelos."
   ]
  },
  {
   "cell_type": "code",
   "execution_count": 29,
   "metadata": {},
   "outputs": [
    {
     "data": {
      "image/png": "[encoded data removed]",
      "text/plain": [
       "<matplotlib.figure.Figure at 0x7fd11c9a76d0>"
      ]
     },
     "metadata": {},
     "output_type": "display_data"
    }
   ],
   "source": [
    "plt.plot(model_7x4_history.history['loss'])\n",
    "plt.plot(model_5x4_history.history['loss'])\n",
    "#plt.plot(model_9x2_history.history['loss'])\n",
    "plt.plot(model_3x2_history.history['loss'])\n",
    "plt.title('Comparacion de funciones de perdida')\n",
    "plt.ylabel('Perdida')\n",
    "plt.xlabel('Epoch')\n",
    "plt.legend(['7|4', '5|4', '3|2'], loc='upper left')\n",
    "plt.show()"
   ]
  },
  {
   "cell_type": "markdown",
   "metadata": {},
   "source": [
    "El gráfico anterior muestra como las pérdidas de los modelos de filtros de 5 x 5, *pool size* de 4 x 4 y filtros de 3 x 3, *pool size* de 2 x 2 decaen más rápido respecto a la pérdida del modelo restante, siendo el caso '3|2' el más rápido en este sentido."
   ]
  },
  {
   "cell_type": "markdown",
   "metadata": {},
   "source": [
    "**2.4.5 Resumen**"
   ]
  },
  {
   "cell_type": "markdown",
   "metadata": {},
   "source": [
    "En la tabla que se muestra a continuación, se resumen los resultados obtenidos en las sub-secciones anteriores."
   ]
  },
  {
   "cell_type": "raw",
   "metadata": {},
   "source": [
    "Filtros convolucionales | Pool size   | Test accuracy | Tiempo de entrenamiento\n",
    "-----------------------------------------------------------------------------\n",
    "7 x 7                   |  4 x 4      |  60,88 %      | 3065 [s]\n",
    "-----------------------------------------------------------------------------\n",
    "5 x 5                   |  4 x 4      |  74,06 %      | 2010 [s]\n",
    "-----------------------------------------------------------------------------\n",
    "9 x 9                   |  2 x 2      |  11,07 %      | 8984 [s]\n",
    "-----------------------------------------------------------------------------\n",
    "3 x 3                   |  2 x 2      |  79,97 %      | 2890 [s]"
   ]
  },
  {
   "cell_type": "markdown",
   "metadata": {},
   "source": [
    "Luego, se puede concluir que los mejores resultados, tanto en términos de precisión de prueba como tiempo de entrenamiento, se presentan en aquellos casos en aud el tamaño de los filtros convolucionales y el tamaño del *pool size* son similares entre sí. Por otra parte, al aumentar las diferencias de tamaños entre estas variables, los resultados empeoran."
   ]
  },
  {
   "cell_type": "markdown",
   "metadata": {},
   "source": [
    "**2.5 Modificando la cantidad de filtros**"
   ]
  },
  {
   "cell_type": "markdown",
   "metadata": {},
   "source": [
    "En esta sección, se experimenta modificando la cantidad de filtros utilizados en las capas convolucionales, buscando conocer los efectos que tiene esta medida tanto sobre el tiempo de entrenamiento como sobre el error de pruebas. Dados los resultados de la sección 2.4, el tamaño de los filtros de las capas convolucionales será de 3 x 3, mientras que el *pool size* será de 2 x 2 (modelo 2.4.4). Si bien esta arquitectura está levemente por debajo de la arquitectura original en términos de precisión, permitió reducir en alrededor de 1 hora y 10 minutos el tiempo de entrenamiento, por lo que se considera que representa un buen *trade-off* entre precisión y tiempo de entrenamiento."
   ]
  },
  {
   "cell_type": "markdown",
   "metadata": {},
   "source": [
    "**2.5.1 Primer caso: Disminuyendo la cantidad de filtros**"
   ]
  },
  {
   "cell_type": "markdown",
   "metadata": {},
   "source": [
    "Se estudia el efecto de reducir la cantidad de filtros convolucionales a la mitad con respecto a la arquitectura original, esto es, 8 filtros en la primera y 256 en la segunda. "
   ]
  },
  {
   "cell_type": "code",
   "execution_count": 84,
   "metadata": {
    "collapsed": true
   },
   "outputs": [],
   "source": [
    "model_8_256 = Sequential()\n",
    "# Se añade primera capa convolucional, disminuyendo el tamaño de los filtros\n",
    "model_8_256.add(Conv2D(8, (3, 3), padding='same', activation='relu', input_shape=(n_rows, n_cols, n_channels)))\n",
    "# Se agrega primera capa de reducción, reduciendo factor de pooling a 2 en cada dimensión\n",
    "model_8_256.add(MaxPooling2D(pool_size=(2, 2)))\n",
    "# Se introduce segunda capa convolucional, idéntica a la anterior\n",
    "model_8_256.add(Conv2D(256, (3, 3), padding='same', activation='relu'))\n",
    "# Se añade segunda capa de reducción, idéntica a la anterior\n",
    "model_8_256.add(MaxPooling2D(pool_size=(2, 2)))\n",
    "# Se agrega capa de tipo flatten\n",
    "model_8_256.add(Flatten())\n",
    "# Se introduce capa densa\n",
    "model_8_256.add(Dense(20, activation='relu'))\n",
    "# Se añade capa de salida\n",
    "model_8_256.add(Dense(n_classes, activation='softmax'))"
   ]
  },
  {
   "cell_type": "markdown",
   "metadata": {},
   "source": [
    "Ya definido, el modelo es entrenado."
   ]
  },
  {
   "cell_type": "code",
   "execution_count": 85,
   "metadata": {},
   "outputs": [
    {
     "name": "stdout",
     "output_type": "stream",
     "text": [
      "Train on 58606 samples, validate on 14651 samples\n",
      "Epoch 1/10\n",
      "58606/58606 [==============================] - 316s - loss: 2.1638 - acc: 0.2363 - val_loss: 1.8948 - val_acc: 0.3902\n",
      "Epoch 2/10\n",
      "58606/58606 [==============================] - 265s - loss: 1.5838 - acc: 0.4693 - val_loss: 1.3442 - val_acc: 0.5504\n",
      "Epoch 3/10\n",
      "58606/58606 [==============================] - 267s - loss: 1.1722 - acc: 0.6290 - val_loss: 1.0875 - val_acc: 0.6546\n",
      "Epoch 4/10\n",
      "58606/58606 [==============================] - 266s - loss: 0.9722 - acc: 0.6954 - val_loss: 0.9355 - val_acc: 0.7096\n",
      "Epoch 5/10\n",
      "58606/58606 [==============================] - 266s - loss: 0.8604 - acc: 0.7343 - val_loss: 0.8511 - val_acc: 0.7415\n",
      "Epoch 6/10\n",
      "58606/58606 [==============================] - 266s - loss: 0.7910 - acc: 0.7577 - val_loss: 0.8013 - val_acc: 0.7547\n",
      "Epoch 7/10\n",
      "58606/58606 [==============================] - 266s - loss: 0.7358 - acc: 0.7793 - val_loss: 0.7524 - val_acc: 0.7750\n",
      "Epoch 8/10\n",
      "58606/58606 [==============================] - 265s - loss: 0.6972 - acc: 0.7935 - val_loss: 0.7207 - val_acc: 0.7845\n",
      "Epoch 9/10\n",
      "58606/58606 [==============================] - 266s - loss: 0.6630 - acc: 0.8043 - val_loss: 0.6798 - val_acc: 0.8027\n",
      "Epoch 10/10\n",
      "58606/58606 [==============================] - 266s - loss: 0.6370 - acc: 0.8138 - val_loss: 0.6668 - val_acc: 0.8105\n"
     ]
    }
   ],
   "source": [
    "model_8_256.compile(loss='categorical_crossentropy', optimizer='adagrad', metrics=['accuracy'])\n",
    "model_8_256_history = model_8_256.fit(X_train_, Y_train, batch_size=256, epochs=10, verbose=1, validation_data=(X_val_, Y_val))"
   ]
  },
  {
   "cell_type": "markdown",
   "metadata": {},
   "source": [
    "Estando el modelo ya entrenado, se evalúa su rendimiento sobre el conjunto de pruebas."
   ]
  },
  {
   "cell_type": "code",
   "execution_count": 86,
   "metadata": {},
   "outputs": [
    {
     "name": "stdout",
     "output_type": "stream",
     "text": [
      "26016/26032 [============================>.] - ETA: 0sPrecision sobre conjunto de pruebas: 81.7148125384 %\n"
     ]
    }
   ],
   "source": [
    "model_8_256_scores = model_8_256.evaluate(X_test_, Y_test)\n",
    "print 'Precision sobre conjunto de pruebas:', model_8_256_scores[1] * 100, '%'\n",
    "model_8_256.save('model_8_256.h5')"
   ]
  },
  {
   "cell_type": "markdown",
   "metadata": {},
   "source": [
    "Se observa que la precisión obtenida sobre el conjunto de prueba es de un 81,71%, siendo menor a la precisión obtenida por la arquitectura original, aunque bastante cercana a la del modelo 2.4.4, para el cual se utilizaron los mismos tamaños de filtros y *pool size*, pero 16 y 512 filtros en la primera y segunda capa convolucional, respectivamente. Además, el tiempo total de entrenamiento fue de 2709 [s], inferior a los 2890 [s] de este último."
   ]
  },
  {
   "cell_type": "markdown",
   "metadata": {},
   "source": [
    "**2.5.2 Segundo Caso: Aumentando la cantidad de filtros**"
   ]
  },
  {
   "cell_type": "markdown",
   "metadata": {},
   "source": [
    "Se analiza el efecto de duplicar la cantidad de filtros usados en las capas convolucionales, es decir, se utilizan 32 filtros, en vez de 16 en la primera, y 1024 en la segunda, en vez de 512."
   ]
  },
  {
   "cell_type": "code",
   "execution_count": 87,
   "metadata": {
    "collapsed": true
   },
   "outputs": [],
   "source": [
    "model_32_1024 = Sequential()\n",
    "# Se añade primera capa convolucional, manteniendo constante el tamaño de los filtros\n",
    "model_32_1024.add(Conv2D(32, (3, 3), padding='same', activation='relu', input_shape=(n_rows, n_cols, n_channels)))\n",
    "# Se agrega primera capa de reducción, reduciendo factor de pooling a 2 en cada dimensión\n",
    "model_32_1024.add(MaxPooling2D(pool_size=(2, 2)))\n",
    "# Se introduce segunda capa convolucional, idéntica a la anterior, reduciendo el tamaño de los filtros en dos unidades\n",
    "model_32_1024.add(Conv2D(1024, (3, 3), padding='same', activation='relu'))\n",
    "# Se añade segunda capa de reducción, idéntica a la anterior\n",
    "model_32_1024.add(MaxPooling2D(pool_size=(2, 2)))\n",
    "# Se agrega capa de tipo flatten\n",
    "model_32_1024.add(Flatten())\n",
    "# Se introduce capa densa\n",
    "model_32_1024.add(Dense(20, activation='relu'))\n",
    "# Se añade capa de salida\n",
    "model_32_1024.add(Dense(n_classes, activation='softmax'))"
   ]
  },
  {
   "cell_type": "markdown",
   "metadata": {},
   "source": [
    "Definido el modelo, este es entrenado."
   ]
  },
  {
   "cell_type": "code",
   "execution_count": 88,
   "metadata": {},
   "outputs": [
    {
     "name": "stdout",
     "output_type": "stream",
     "text": [
      "Train on 58606 samples, validate on 14651 samples\n",
      "Epoch 1/10\n",
      "58606/58606 [==============================] - 1088s - loss: 2.2353 - acc: 0.2223 - val_loss: 2.0195 - val_acc: 0.2793\n",
      "Epoch 2/10\n",
      "58606/58606 [==============================] - 1088s - loss: 1.8779 - acc: 0.3546 - val_loss: 1.7332 - val_acc: 0.4042\n",
      "Epoch 3/10\n",
      "58606/58606 [==============================] - 1088s - loss: 1.6079 - acc: 0.4455 - val_loss: 1.5001 - val_acc: 0.4956\n",
      "Epoch 4/10\n",
      "58606/58606 [==============================] - 1088s - loss: 1.4285 - acc: 0.5281 - val_loss: 1.3619 - val_acc: 0.5536\n",
      "Epoch 5/10\n",
      "58606/58606 [==============================] - 1088s - loss: 1.3108 - acc: 0.5714 - val_loss: 1.2667 - val_acc: 0.5851\n",
      "Epoch 6/10\n",
      "58606/58606 [==============================] - 1088s - loss: 1.2260 - acc: 0.5954 - val_loss: 1.2001 - val_acc: 0.5902\n",
      "Epoch 7/10\n",
      "58606/58606 [==============================] - 1088s - loss: 1.1630 - acc: 0.6160 - val_loss: 1.1629 - val_acc: 0.6031\n",
      "Epoch 8/10\n",
      "58606/58606 [==============================] - 1088s - loss: 1.1141 - acc: 0.6324 - val_loss: 1.1255 - val_acc: 0.6237\n",
      "Epoch 9/10\n",
      "58606/58606 [==============================] - 1088s - loss: 1.0728 - acc: 0.6487 - val_loss: 1.0793 - val_acc: 0.6505\n",
      "Epoch 10/10\n",
      "58606/58606 [==============================] - 1088s - loss: 1.0407 - acc: 0.6639 - val_loss: 1.0469 - val_acc: 0.6628\n"
     ]
    }
   ],
   "source": [
    "model_32_1024.compile(loss='categorical_crossentropy', optimizer='adagrad', metrics=['accuracy'])\n",
    "model_32_1024_history = model_32_1024.fit(X_train_, Y_train, batch_size=256, epochs=10, verbose=1, validation_data=(X_val_, Y_val))"
   ]
  },
  {
   "cell_type": "markdown",
   "metadata": {},
   "source": [
    "A continuación, se evalúa el modelo sobre el conjunto de pruebas."
   ]
  },
  {
   "cell_type": "code",
   "execution_count": 89,
   "metadata": {},
   "outputs": [
    {
     "name": "stdout",
     "output_type": "stream",
     "text": [
      "26032/26032 [==============================] - 76s    \n",
      "Precision sobre conjunto de pruebas: 68.6578057775 %\n"
     ]
    }
   ],
   "source": [
    "model_32_1024_scores = model_32_1024.evaluate(X_test_, Y_test)\n",
    "print 'Precision sobre conjunto de pruebas:', model_32_1024_scores[1] * 100, '%'\n",
    "model_32_1024.save('model_32_1024.h5')"
   ]
  },
  {
   "cell_type": "markdown",
   "metadata": {},
   "source": [
    "El resultado anterior implica que la precisión de prueba conseguida es de un 68,66%, empeorando considerablemente tanto respecto al modelo de la sección 2.5.1 como al original. Peor aún, el tiempo total empleado para el entrenamiento es el más alto hasta ahora: 10880 [s]."
   ]
  },
  {
   "cell_type": "markdown",
   "metadata": {},
   "source": [
    "**2.5.3 Tercer caso: Usando la misma cantidad de filtros**"
   ]
  },
  {
   "cell_type": "markdown",
   "metadata": {},
   "source": [
    "Se estudia el efecto de utilizar la misma cantidad de filtros en ambas capas convolucionales. La cantidad de filtros a utilizar será de 32."
   ]
  },
  {
   "cell_type": "code",
   "execution_count": 90,
   "metadata": {
    "collapsed": true
   },
   "outputs": [],
   "source": [
    "model_32_32 = Sequential()\n",
    "# Se añade primera capa convolucional, con 32 filtros\n",
    "model_32_32.add(Conv2D(32, (3, 3), padding='same', activation='relu', input_shape=(n_rows, n_cols, n_channels)))\n",
    "# Se agrega primera capa de reducción, reduciendo factor de pooling a 2 en cada dimensión\n",
    "model_32_32.add(MaxPooling2D(pool_size=(2, 2)))\n",
    "# Se introduce segunda capa convolucional, idéntica a la anterior\n",
    "model_32_32.add(Conv2D(32, (3, 3), padding='same', activation='relu'))\n",
    "# Se añade segunda capa de reducción, idéntica a la anterior\n",
    "model_32_32.add(MaxPooling2D(pool_size=(2, 2)))\n",
    "# Se agrega capa de tipo flatten\n",
    "model_32_32.add(Flatten())\n",
    "# Se introduce capa densa\n",
    "model_32_32.add(Dense(20, activation='relu'))\n",
    "# Se añade capa de salida\n",
    "model_32_32.add(Dense(n_classes, activation='softmax'))"
   ]
  },
  {
   "cell_type": "markdown",
   "metadata": {},
   "source": [
    "Se entrena el modelo definido."
   ]
  },
  {
   "cell_type": "code",
   "execution_count": 91,
   "metadata": {},
   "outputs": [
    {
     "name": "stdout",
     "output_type": "stream",
     "text": [
      "Train on 58606 samples, validate on 14651 samples\n",
      "Epoch 1/10\n",
      "58606/58606 [==============================] - 117s - loss: 2.1824 - acc: 0.2076 - val_loss: 2.0024 - val_acc: 0.2899\n",
      "Epoch 2/10\n",
      "58606/58606 [==============================] - 117s - loss: 1.8175 - acc: 0.3744 - val_loss: 1.5736 - val_acc: 0.4675\n",
      "Epoch 3/10\n",
      "58606/58606 [==============================] - 117s - loss: 1.3576 - acc: 0.5722 - val_loss: 1.1616 - val_acc: 0.6365\n",
      "Epoch 4/10\n",
      "58606/58606 [==============================] - 117s - loss: 1.0513 - acc: 0.6782 - val_loss: 0.9785 - val_acc: 0.6972\n",
      "Epoch 5/10\n",
      "58606/58606 [==============================] - 117s - loss: 0.9106 - acc: 0.7226 - val_loss: 0.8762 - val_acc: 0.7401\n",
      "Epoch 6/10\n",
      "58606/58606 [==============================] - 117s - loss: 0.8308 - acc: 0.7492 - val_loss: 0.8176 - val_acc: 0.7521\n",
      "Epoch 7/10\n",
      "58606/58606 [==============================] - 117s - loss: 0.7799 - acc: 0.7677 - val_loss: 0.8162 - val_acc: 0.7577\n",
      "Epoch 8/10\n",
      "58606/58606 [==============================] - 117s - loss: 0.7418 - acc: 0.7808 - val_loss: 0.8010 - val_acc: 0.7514\n",
      "Epoch 9/10\n",
      "58606/58606 [==============================] - 117s - loss: 0.7119 - acc: 0.7906 - val_loss: 0.7332 - val_acc: 0.7774\n",
      "Epoch 10/10\n",
      "58606/58606 [==============================] - 117s - loss: 0.6859 - acc: 0.7981 - val_loss: 0.7151 - val_acc: 0.7875\n"
     ]
    }
   ],
   "source": [
    "model_32_32.compile(loss='categorical_crossentropy', optimizer='adagrad', metrics=['accuracy'])\n",
    "model_32_32_history = model_32_32.fit(X_train_, Y_train, batch_size=256, epochs=10, verbose=1, validation_data=(X_val_, Y_val))"
   ]
  },
  {
   "cell_type": "markdown",
   "metadata": {},
   "source": [
    "Por último, la arquitectura es evaluada sobre el conjunto de pruebas."
   ]
  },
  {
   "cell_type": "code",
   "execution_count": 92,
   "metadata": {},
   "outputs": [
    {
     "name": "stdout",
     "output_type": "stream",
     "text": [
      "25920/26032 [============================>.] - ETA: 0s\n",
      "Precision sobre conjunto de pruebas: 79.8862937923 %\n"
     ]
    }
   ],
   "source": [
    "model_32_32_scores = model_32_32.evaluate(X_test_, Y_test)\n",
    "print '\\nPrecision sobre conjunto de pruebas:', model_32_32_scores[1] * 100, '%'\n",
    "model_32_32.save('model_32_32.h5')"
   ]
  },
  {
   "cell_type": "markdown",
   "metadata": {},
   "source": [
    "Luego, la precisión obtenida sobre el conjunto de prueba es de un 79,89%, siendo menor a la de la arquitectura original. Sin embargo, el tiempo total de entrenamiento fue de 1170 [s], el más bajo de todos hasta ahora."
   ]
  },
  {
   "cell_type": "markdown",
   "metadata": {},
   "source": [
    "De forma análoga a la sección 2.4, resulta interesante comparar la evolución de la precisión de entrenamiento en función del número de epochs para los tres casos estudiados en esta sección."
   ]
  },
  {
   "cell_type": "code",
   "execution_count": 93,
   "metadata": {},
   "outputs": [
    {
     "data": {
      "image/png": "[encoded data removed]",
      "text/plain": [
       "<matplotlib.figure.Figure at 0x7f8079788b90>"
      ]
     },
     "metadata": {},
     "output_type": "display_data"
    }
   ],
   "source": [
    "plt.plot(model_8_256_history.history['acc'])\n",
    "plt.plot(model_32_1024_history.history['acc'])\n",
    "plt.plot(model_32_32_history.history['acc'])\n",
    "plt.title('Comparacion de precision de entrenamiento')\n",
    "plt.ylabel('Precision')\n",
    "plt.xlabel('Epoch')\n",
    "plt.legend(['8|256', '32|1024', '32|32'], loc='upper left')\n",
    "plt.show()"
   ]
  },
  {
   "cell_type": "markdown",
   "metadata": {},
   "source": [
    "El gráfico construído muestra como al utilizar 32 filtros en la primera capa y 1024 en la segunda causa, en principio, un rápido aumento de la precisión, pero luego de la cuarta iteración, aproximádamente, dicho aumento es cada vez más lento. Por otra parte, la precisión en los dos modelos restantes aumenta más rápido aún, pero también comienza a \"estancarse\" paulatinamente a continuación de la cuarta iteración.\n",
    "\n",
    "También resulta interesante observar como evoluciona la función de pérdida a partir de la cantidad de epochs ejecutadas en cada caso."
   ]
  },
  {
   "cell_type": "code",
   "execution_count": 94,
   "metadata": {},
   "outputs": [
    {
     "data": {
      "image/png": "[encoded data removed]",
      "text/plain": [
       "<matplotlib.figure.Figure at 0x7f8079784c90>"
      ]
     },
     "metadata": {},
     "output_type": "display_data"
    }
   ],
   "source": [
    "plt.plot(model_8_256_history.history['loss'])\n",
    "plt.plot(model_32_1024_history.history['loss'])\n",
    "plt.plot(model_32_32_history.history['loss'])\n",
    "plt.title('Comparacion de funciones de perdida')\n",
    "plt.ylabel('Perdida')\n",
    "plt.xlabel('Epoch')\n",
    "plt.legend(['8|256', '32|1024', '32|32'], loc='lower left')\n",
    "plt.show()"
   ]
  },
  {
   "cell_type": "markdown",
   "metadata": {},
   "source": [
    "De forma similar al gráfico de precisión, la función de pérdida comienza a decaer rápidamente para todos los casos, pero tal decaimiento comienza a ser cada más lento a medida que avanzan las epochs. Además, el valor final alcanzado por la función es notablemente menor para los casos 8|256 y 32|32 en comparación con el caso 32|1024."
   ]
  },
  {
   "cell_type": "markdown",
   "metadata": {},
   "source": [
    "** 2.5.3 Resumen **"
   ]
  },
  {
   "cell_type": "markdown",
   "metadata": {},
   "source": [
    "En la siguiente tabla, se resumen los resultados conseguidos en las sub-secciones previas."
   ]
  },
  {
   "cell_type": "raw",
   "metadata": {},
   "source": [
    "Cantidad de fitros capa conv. 1 | Cantidad de fitros capa conv. 2 | Test accuracy | Tiempo de entrenamiento\n",
    "--------------------------------------------------------------------------------------------------------------\n",
    "8                               | 256                             | 81,71%         | 2709 [s]\n",
    "--------------------------------------------------------------------------------------------------------------\n",
    "32                              | 1024                            | 68,66%         | 10880 [s]\n",
    "--------------------------------------------------------------------------------------------------------------\n",
    "32                              | 32                              | 79,89%         | 1170 [s]"
   ]
  },
  {
   "cell_type": "markdown",
   "metadata": {},
   "source": [
    "Se puede decir, entonces, que es una mala práctica aumentar en demasía la cantidad de filtros utilizados, pues esto lleva a que la cantidad de parámetros de la red aumente considerablemente y se requiera de una cantidad mayor de ejemplos de la que, al menos en este caso, se dispone."
   ]
  },
  {
   "cell_type": "markdown",
   "metadata": {},
   "source": [
    "**2.6 Modificando la red**"
   ]
  },
  {
   "cell_type": "markdown",
   "metadata": {},
   "source": [
    "En la siguiente sección, se desea introducir modificaciones en la red de tal manera que sea factible obtener mejoras en el rendimiento de la red sobre el conjunto de pruebas.\n",
    "\n",
    "Teóricamente, se sabe que para construir un buen modelo es necesario que la cantidad de ejemplos utilizados para su entrenamiento sea proporcional al número de parámetros que posee. En este contexto, tales condiciones no se cumplen, tomando en cuenta que el número de parámetros de las arquitecturas estudiadas es cercano a 1.000.000, mientras que la cantidad de ejemplos usados para el entrenamiento es de alredor de 60.000. Sin embargo, el aumentar significativamente el volumen de dichos ejemplos puede llevar a que el entrenamiento sea inviable si no se cuenta con los recursos computacionales apropiados. Luego, una alternativa que puede ayudar a remediar esta situación es regularizar el modelo por medio de *dropout*, esto es, desactivando un porcentaje determinado de las neuronas de las capas convolucionales en cada epoch.\n",
    "\n",
    "También, se aumentará el número de neuronas en la capa densa, esperando que esto ayude a complementar el efecto de regularización. Dicho aumentó llevará a que la capa esté constituida por 100 neuronas. Si bien puede parecer contradictorio el hecho de agregar más neuronas (pues esto conlleva un aumento en la cantidad de parámetros del modelo), es importante notar que esta capa también será regularizada.\n",
    "\n",
    "En el siguiente código, se introducen las modificaciones señaladas. Básicamente, se reutilizará la arquitectura original (sección 2.3), dado a que es el mejor modelo hasta ahora, en términos de precisión. Para la primera capa convolucional, se utilizarán 16 filtros de dimensiones 5 x 5. Para la segunda, 512 filtros de tamaño 7 x 7. Por último, las capas de *max pooling* tendrán asociado un *pool size* de 2 x 2. El parámetro *dropout* será de un 25% para la primera capa convolucional y la capa densa, mientras que será de un 50% para la segunda capa convolucional."
   ]
  },
  {
   "cell_type": "code",
   "execution_count": 13,
   "metadata": {
    "collapsed": true
   },
   "outputs": [],
   "source": [
    "modified_model = Sequential()\n",
    "# Se añade primera capa convolucional\n",
    "modified_model.add(Conv2D(16, (5, 5), padding='same', activation='relu', input_shape=(n_rows, n_cols, n_channels)))\n",
    "# Se agrega primera capa de reducción\n",
    "modified_model.add(MaxPooling2D(pool_size=(2, 2)))\n",
    "# Se introduce dropout\n",
    "modified_model.add(Dropout(0.25))\n",
    "# Se introduce segunda capa convolucional\n",
    "modified_model.add(Conv2D(512, (7, 7), padding='same', activation='relu'))\n",
    "# Se añade segunda capa de reducción\n",
    "modified_model.add(MaxPooling2D(pool_size=(2, 2)))\n",
    "# Se introduce dropout\n",
    "modified_model.add(Dropout(0.5))\n",
    "# Se agrega capa de tipo flatten\n",
    "modified_model.add(Flatten())\n",
    "# Se introduce capa densa, aumentando a 100 la cantidad de neuronas\n",
    "modified_model.add(Dense(100, activation='relu'))\n",
    "# Se introduce dropout en capa densa\n",
    "modified_model.add(Dropout(0.25))\n",
    "# Se añade capa de salida\n",
    "modified_model.add(Dense(n_classes, activation='softmax'))"
   ]
  },
  {
   "cell_type": "markdown",
   "metadata": {},
   "source": [
    "En este punto, también resulta interesante entrenar el modelo utilizando otro método de optimización. En la literatura se ha señalado que adagrad, método de entrenamiento ocupado hasta ahora en todos los modelos implementados, puede llevar a que la tasa de aprendizaje decrezca muy rápido, impidiendo que la arquitectura que está siendo entrenada pueda aprender más. Debido a esto, el método de optimización será reemplazado por Adam, que adapta dicha tasa de forma menos \"agresiva\".   "
   ]
  },
  {
   "cell_type": "code",
   "execution_count": 15,
   "metadata": {
    "scrolled": true
   },
   "outputs": [
    {
     "name": "stdout",
     "output_type": "stream",
     "text": [
      "Train on 58606 samples, validate on 14651 samples\n",
      "Epoch 1/10\n",
      "58606/58606 [==============================] - 779s - loss: 2.0960 - acc: 0.2548 - val_loss: 1.6502 - val_acc: 0.4214\n",
      "Epoch 2/10\n",
      "58606/58606 [==============================] - 785s - loss: 1.3446 - acc: 0.5488 - val_loss: 0.9520 - val_acc: 0.7031\n",
      "Epoch 3/10\n",
      "58606/58606 [==============================] - 790s - loss: 0.9409 - acc: 0.6979 - val_loss: 0.6807 - val_acc: 0.7892\n",
      "Epoch 4/10\n",
      "58606/58606 [==============================] - 793s - loss: 0.7860 - acc: 0.7510 - val_loss: 0.5939 - val_acc: 0.8206\n",
      "Epoch 5/10\n",
      "58606/58606 [==============================] - 792s - loss: 0.6955 - acc: 0.7821 - val_loss: 0.5378 - val_acc: 0.8402\n",
      "Epoch 6/10\n",
      "58606/58606 [==============================] - 787s - loss: 0.6566 - acc: 0.7954 - val_loss: 0.5100 - val_acc: 0.8453\n",
      "Epoch 7/10\n",
      "58606/58606 [==============================] - 791s - loss: 0.6147 - acc: 0.8098 - val_loss: 0.5013 - val_acc: 0.8518\n",
      "Epoch 8/10\n",
      "58606/58606 [==============================] - 785s - loss: 0.5802 - acc: 0.8186 - val_loss: 0.4533 - val_acc: 0.8644\n",
      "Epoch 9/10\n",
      "58606/58606 [==============================] - 1192s - loss: 0.5604 - acc: 0.8250 - val_loss: 0.4605 - val_acc: 0.8606\n",
      "Epoch 10/10\n",
      "58606/58606 [==============================] - 1528s - loss: 0.5389 - acc: 0.8324 - val_loss: 0.4447 - val_acc: 0.8683\n"
     ]
    }
   ],
   "source": [
    "# Se modifica método de entrenamiento usado hasta ahora: adam, en vez de adagrad\n",
    "modified_model.compile(loss='categorical_crossentropy', optimizer='adam', metrics=['accuracy'])\n",
    "modified_model_history = modified_model.fit(X_train_, Y_train, batch_size=256, epochs=10, verbose=1, validation_data=(X_val_, Y_val))"
   ]
  },
  {
   "cell_type": "markdown",
   "metadata": {},
   "source": [
    "Ya entrenado el modelo, se procede a evaluarlo sobre el conjunto de pruebas."
   ]
  },
  {
   "cell_type": "code",
   "execution_count": 16,
   "metadata": {},
   "outputs": [
    {
     "name": "stdout",
     "output_type": "stream",
     "text": [
      "26032/26032 [==============================] - 177s   \n",
      "\n",
      "Precision sobre conjunto de pruebas: 86.7432390904 %\n"
     ]
    }
   ],
   "source": [
    "modified_model_scores = modified_model.evaluate(X_test_, Y_test)\n",
    "print '\\nPrecision sobre conjunto de pruebas:', modified_model_scores[1] * 100, '%'\n",
    "modified_model.save('modified_model.h5')"
   ]
  },
  {
   "cell_type": "markdown",
   "metadata": {},
   "source": [
    "Con esto, se aprecia que la precisión de prueba que se obtiene es de un 86,74%, por lo que se puede afirmar que las modificaciones realizadas fueron efectivas. En comparación con la  arquitectura original, la precisión sobre el conjunto de prueba aumenta en un 3,19%, constituyéndose como el mejor modelo en términos de este parámetro. Ahora bien, el aumento en el tiempo de entrenamiento es significativo: 9022 [s], que corresponde al segundo mayor tiempo entre todos los modelos.\n",
    "\n",
    "Para complementar el análisis llevado a cabo, se grafica la precisión y la función de pérdida en base al número de epochs."
   ]
  },
  {
   "cell_type": "code",
   "execution_count": 17,
   "metadata": {
    "scrolled": true
   },
   "outputs": [
    {
     "data": {
      "image/png": "[encoded data removed]",
      "text/plain": [
       "<matplotlib.figure.Figure at 0x7ff81b2e8250>"
      ]
     },
     "metadata": {},
     "output_type": "display_data"
    }
   ],
   "source": [
    "# Se grafica precisión\n",
    "plt.plot(modified_model_history.history['acc'])\n",
    "plt.title('Evolucion de precision en modelo modificado')\n",
    "plt.ylabel('Precision')\n",
    "plt.xlabel('Epoch')\n",
    "plt.show()"
   ]
  },
  {
   "cell_type": "markdown",
   "metadata": {},
   "source": [
    "Se observa que la precisión aumenta en forma rápida hasta la cuarta epoch, para luego seguir creciendo, pero con un ritmo más lento."
   ]
  },
  {
   "cell_type": "code",
   "execution_count": 18,
   "metadata": {},
   "outputs": [
    {
     "data": {
      "image/png": "[encoded data removed]",
      "text/plain": [
       "<matplotlib.figure.Figure at 0x7ff80a5b5290>"
      ]
     },
     "metadata": {},
     "output_type": "display_data"
    }
   ],
   "source": [
    "# Se grafica función de pérdida\n",
    "plt.plot(modified_model_history.history['loss'])\n",
    "plt.title('Evolucion de loss en modelo modificado')\n",
    "plt.ylabel('Perdida')\n",
    "plt.xlabel('Epoch')\n",
    "plt.show()"
   ]
  },
  {
   "cell_type": "markdown",
   "metadata": {},
   "source": [
    "De forma análoga, la función de pérdida decrece rápidamente hasta la cuarta epoch, para después continuar disminuyendo a un ritmo menor. Notar también que en este modelo, la función de pérdida en el entrenamiento alcanza su valor más bajo (0.5389), respecto a todos los modelos implementados previamente."
   ]
  },
  {
   "cell_type": "markdown",
   "metadata": {},
   "source": [
    "**2.7 Visualización de pesos y efecto de filtros en primera capa convolucional**"
   ]
  },
  {
   "cell_type": "markdown",
   "metadata": {},
   "source": [
    "En esta sección, se visualizan los pesos asociados a la primera capa convolucional del modelo definido en la sección 2.6. Se ha escogido dicho modelo dado a que fue el que logró obtener la mejor precisión sobre el conjunto de pruebas en comparación con los modelos previamente implementados.  "
   ]
  },
  {
   "cell_type": "code",
   "execution_count": 19,
   "metadata": {
    "collapsed": true
   },
   "outputs": [],
   "source": [
    "# Se obtienen pesos de primera capa convolucional del modelo 2.6\n",
    "weights = modified_model.layers[0].get_weights()"
   ]
  },
  {
   "cell_type": "markdown",
   "metadata": {},
   "source": [
    "A continuación, se obtiene tanto la cantidad de filtros utilizados como las dimensiones de la matriz de pesos de cada uno de ellos."
   ]
  },
  {
   "cell_type": "code",
   "execution_count": 20,
   "metadata": {},
   "outputs": [
    {
     "data": {
      "text/plain": [
       "(5, 5, 3, 16)"
      ]
     },
     "execution_count": 20,
     "metadata": {},
     "output_type": "execute_result"
    }
   ],
   "source": [
    "# Se obtiene el número de filtros y las dimensiones de la matriz de pesos\n",
    "weights[0].shape"
   ]
  },
  {
   "cell_type": "markdown",
   "metadata": {},
   "source": [
    "Luego, la primera capa convolucional posee 16 filtros y las dimensiones de la matriz de pesos asociada a cada filtro posee dimensiones 5 x 5, las que son utilizadas en cada uno de los 3 canales del input recibido.\n",
    "\n",
    "A modo de ejemplo, se muestra la matriz de pesos del primer filtro de la capa. Notar que existe una matriz diferente por cada uno de los canales del input recibido."
   ]
  },
  {
   "cell_type": "code",
   "execution_count": 21,
   "metadata": {},
   "outputs": [
    {
     "data": {
      "text/plain": [
       "array([[[ 0.10259772,  0.11453398, -0.17501837, -0.13400349, -0.143252  ],\n",
       "        [-0.06704203,  0.14875792,  0.03184858, -0.05115555, -0.04812326],\n",
       "        [ 0.08386476,  0.12896937,  0.02296116, -0.03841879,  0.01682293],\n",
       "        [ 0.02322839,  0.11831968,  0.015878  , -0.0765493 ,  0.01812038],\n",
       "        [ 0.0305484 ,  0.06144204,  0.10930839,  0.03973421,  0.05767485]],\n",
       "\n",
       "       [[-0.03325339,  0.08010489, -0.04655305, -0.18625349,  0.04727487],\n",
       "        [-0.01560474,  0.07445803, -0.07616922,  0.04364881, -0.02553856],\n",
       "        [ 0.01484479, -0.03207802, -0.00357583,  0.10833725,  0.13907172],\n",
       "        [-0.0460526 ,  0.05008575,  0.04948904, -0.10680402,  0.02545462],\n",
       "        [-0.14059468, -0.00838149,  0.10989474,  0.03779734, -0.09805594]],\n",
       "\n",
       "       [[ 0.11936887,  0.11193693, -0.09844855, -0.15371402, -0.07777628],\n",
       "        [ 0.08766072,  0.02091152, -0.05986524, -0.0218503 , -0.06636008],\n",
       "        [-0.02435107, -0.0617727 ,  0.02854234,  0.0750561 , -0.02159363],\n",
       "        [-0.08143508,  0.08147211, -0.07412446,  0.02473442,  0.05487091],\n",
       "        [-0.09919304, -0.07128917,  0.08557315, -0.00243499, -0.07681486]]], dtype=float32)"
      ]
     },
     "execution_count": 21,
     "metadata": {},
     "output_type": "execute_result"
    }
   ],
   "source": [
    "# Se muestra matriz de pesos de primer filtro de la capa convolucional\n",
    "weights[0].T[0]"
   ]
  },
  {
   "cell_type": "markdown",
   "metadata": {},
   "source": [
    "Por otra parte, también interesa conocer el efecto que tienen los filtros de la capa sobre una imágen determinada. Para ello, primero se escoge de forma aleatoria una imágen del conjunto de entrenamiento y se muestra."
   ]
  },
  {
   "cell_type": "code",
   "execution_count": 22,
   "metadata": {
    "scrolled": true
   },
   "outputs": [
    {
     "data": {
      "image/png": "[encoded data removed]",
      "text/plain": [
       "<matplotlib.figure.Figure at 0x7ff876672950>"
      ]
     },
     "metadata": {},
     "output_type": "display_data"
    }
   ],
   "source": [
    "# Se escoge imágen de conjunto de entrenamiento\n",
    "\n",
    "random.seed(11)\n",
    "image = random.choice(X_train).reshape(n_channels, n_rows, n_cols).transpose(2, 1, 0)\n",
    "plt.figure()\n",
    "plt.imshow(image)\n",
    "plt.axis('off')\n",
    "plt.show()"
   ]
  },
  {
   "cell_type": "markdown",
   "metadata": {},
   "source": [
    "En las siguientes figuras, se muestra el \"resultado\" de aplicar cada uno de los filtros de la primera capa convolucional sobre la imágen que acaba de ser mostrada. Cada uno de estos \"resultados\" es denominado *feature map* en la teoría y permite advertir las características que el filtro está aprendiendo a partir de la imágen."
   ]
  },
  {
   "cell_type": "code",
   "execution_count": 59,
   "metadata": {},
   "outputs": [
    {
     "data": {
      "image/png": "[encoded data removed]",
      "text/plain": [
       "<matplotlib.figure.Figure at 0x7f8074591e50>"
      ]
     },
     "metadata": {},
     "output_type": "display_data"
    }
   ],
   "source": [
    "# Se obtiene feature map de cada filtro\n",
    "filters_output_function = backend.function([modified_model.layers[0].input], [modified_model.layers[0].output])\n",
    "filters_output = filters_output_function([np.array([image])])[0]\n",
    "\n",
    "# Se muestra feature map de cada filtro\n",
    "filters = filters_output[0]\n",
    "f, ax = plt.subplots(4, 4, sharey=True, figsize=(16, 16))\n",
    "for i in range(4):\n",
    "    for j in range(4):\n",
    "        filter_number = 4 * i + j + 1\n",
    "        ax[i][j].set_title(filter_number)\n",
    "        ax[i][j].imshow(np.transpose(filters[filter_number - 1]))\n",
    "plt.show()"
   ]
  },
  {
   "cell_type": "markdown",
   "metadata": {},
   "source": [
    "No es sencillo interpretar las imágenes obtenidas, dada la poca claridad que estas poseen. Sin embargo, se puede intuir que, por ejemplo, el primer filtro se ha especializado en la detección de la zona inferior de los dígitos. O también, que el filtro 16 se ha especializado en la detección del borde inferior derecho de un dígito."
   ]
  },
  {
   "cell_type": "markdown",
   "metadata": {},
   "source": [
    "**2.8 ¿Tiende la red a confudir ciertos dígitos?**"
   ]
  },
  {
   "cell_type": "markdown",
   "metadata": {
    "collapsed": true
   },
   "source": [
    "Culminando el análisis de este problema, se busca determinar los pares de dígitos que la red tiende a confudir. Para ello, se procede a computar la matriz de confusión del modelo 2.6. De esta forma, se tiene que el elemento ij de esta matriz corresponde a la cantidad de imágenes cuya clase real es i, pero el modelo predijo j como su clase."
   ]
  },
  {
   "cell_type": "code",
   "execution_count": 23,
   "metadata": {},
   "outputs": [
    {
     "data": {
      "text/plain": [
       "array([[4719,   65,   50,   84,   13,   22,   73,   13,   11,   49],\n",
       "       [  38, 3743,  130,   31,   42,   25,   60,   30,   43,    7],\n",
       "       [  57,   60, 2406,   18,  113,   17,   18,   47,  138,    8],\n",
       "       [  75,   44,   58, 2243,   11,   15,   16,    9,   31,   21],\n",
       "       [  15,   25,  133,   18, 2061,   59,    6,   23,   30,   14],\n",
       "       [  30,   15,   29,   58,  135, 1581,    7,   47,   28,   47],\n",
       "       [  70,   56,   30,    2,   20,    6, 1813,    3,   10,    9],\n",
       "       [  17,   24,  104,   31,   63,  107,    3, 1192,   87,   32],\n",
       "       [  22,   60,   50,   10,   29,   11,   17,   14, 1338,   44],\n",
       "       [  20,   33,   43,   10,   16,   39,   11,   19,   68, 1485]])"
      ]
     },
     "execution_count": 23,
     "metadata": {},
     "output_type": "execute_result"
    }
   ],
   "source": [
    "# Se crea lista con la clase real de cada imágen perteneciente al conjunto de prueba\n",
    "real_values = [y[0] for y in y_test]\n",
    "# Se crea lista con la clase predicha para cada imágen por el modelo considerado\n",
    "predicted_values = list(np.argmax(modified_model.predict(X_test_), axis=1))\n",
    "\n",
    "# A partir de las listas anteriores, se computa la matriz de confusión del modelo\n",
    "confusion_matrix(real_values, predicted_values)"
   ]
  },
  {
   "cell_type": "markdown",
   "metadata": {},
   "source": [
    "La matriz de confusión computada muestra que los valores más grandes de cada fila pertenecen a la diagonal. Esto quiere decir que, para cada dígito, existen más ejemplos bien clasificados que mal clasificados, hecho que es consistente con la precisión del 86,71% obtenida para este modelo.\n",
    "\n",
    "Ahora bien, para determinar los pares de dígitos que tienden a ser más confundidos por la red, se considera como criterio que la casilla ij (para i distinto de j) almacene un valor mayor a 100. Bajo esta lógica, se puede decir que:\n",
    "\n",
    "- El dígito 1 fue mal clasificado como el dígito 2 en 130 ocasiones.\n",
    "- El dígito 2 fue mal clasificado como los dígitos 4 y 8 en 113 y 138 ocasiones, respectivamente.\n",
    "- El dígito 4 fue mal clasificado como el dígito 2 en 133 ocasiones.\n",
    "- El dígito 5 fue mal clasificado como el dígito 4 en 135 oportunidades.\n",
    "- El dígito 7 fue mal clasificado como el dígito 5 en 107 ocasiones."
   ]
  }
 ],
 "metadata": {
  "kernelspec": {
   "display_name": "Python 2",
   "language": "python",
   "name": "python2"
  },
  "language_info": {
   "codemirror_mode": {
    "name": "ipython",
    "version": 2
   },
   "file_extension": ".py",
   "mimetype": "text/x-python",
   "name": "python",
   "nbconvert_exporter": "python",
   "pygments_lexer": "ipython2",
   "version": "2.7.12"
  }
 },
 "nbformat": 4,
 "nbformat_minor": 2
}
