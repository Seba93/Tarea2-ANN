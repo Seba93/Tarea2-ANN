{
 "cells": [
  {
   "cell_type": "markdown",
   "metadata": {},
   "source": [
    "# 3. Autoencoders (AE) en MNIST"
   ]
  },
  {
   "cell_type": "markdown",
   "metadata": {},
   "source": [
    "**Importación de módulos necesarios**"
   ]
  },
  {
   "cell_type": "code",
   "execution_count": 15,
   "metadata": {},
   "outputs": [],
   "source": [
    "from keras.datasets import mnist\n",
    "import numpy as np\n",
    "from keras.layers import Input, Dense\n",
    "from keras.models import Model\n",
    "from keras.models import load_model\n",
    "from keras.optimizers import SGD, adadelta\n",
    "import warnings\n",
    "import matplotlib.pyplot as plt\n",
    "from sklearn.neighbors import KNeighborsClassifier\n",
    "from sklearn.decomposition import PCA\n",
    "import time"
   ]
  },
  {
   "cell_type": "markdown",
   "metadata": {},
   "source": [
    "**3.0 Creación de conjuntos de datos a utilizar**"
   ]
  },
  {
   "cell_type": "markdown",
   "metadata": {},
   "source": [
    "En primer lugar, se crean los conjuntos de datos a ser utilizados en la resolución del problema. Para ello, el dataset completo de imágenes es obtenido desde el repositorio de *keras*. Posteriormente, las matrices que contienen las imágenes, *x_train* y *x_test*, son escaladas en base a la intensidad máxima de píxel y luego reorganizadas como un vector cada una.\n",
    "\n",
    "Además, se crea el conjunto de validación que será usado más adelante, extrayendo para ello los últimos 5.000 registros del conjunto de entrenamiento."
   ]
  },
  {
   "cell_type": "code",
   "execution_count": 16,
   "metadata": {
    "collapsed": true
   },
   "outputs": [],
   "source": [
    "# Se cargan conjutos de entrenamiento y de prueba\n",
    "(x_train, y_train), (x_test, y_test) = mnist.load_data()\n",
    "\n",
    "# Se normalizan conjuntos de datos en base a intensidad máxima de pixel\n",
    "x_train = x_train.astype('float32') / 255.\n",
    "x_test = x_test.astype('float32') / 255.\n",
    "\n",
    "# Se transforman las imágenes de ambos conjuntos a vectores\n",
    "x_train = x_train.reshape((len(x_train), np.prod(x_train.shape[1:])))\n",
    "x_test = x_test.reshape((len(x_test), np.prod(x_test.shape[1:])))\n",
    "\n",
    "# Se define conjunto de validación y se reestructura conjunto de entrenamiento\n",
    "x_val = x_train[5000:, :]\n",
    "x_train = x_train[:5000, :]\n",
    "y_val = y_train[5000:]\n",
    "y_train = y_train[:5000]"
   ]
  },
  {
   "cell_type": "markdown",
   "metadata": {},
   "source": [
    "# 3.1 Reducción de dimensionalidad"
   ]
  },
  {
   "cell_type": "markdown",
   "metadata": {},
   "source": [
    "En esta sección, se hará uso de diversos AE's como reductores de dimensionalidad, esperando mejorar el rendimiento de modelos convolucionales, los cuales recibirán como inputs las imágenes \"reducidas\" y serán entrenados para construir un clasificador de dígitos. "
   ]
  },
  {
   "cell_type": "markdown",
   "metadata": {},
   "source": [
    "**3.1.1 AE con una capa escondida**"
   ]
  },
  {
   "cell_type": "markdown",
   "metadata": {},
   "source": [
    "Se comienza construyendo un AE simple, compuesto únicamente por una capa oculta (enconder) y una capa de salida (decoder). En principio, el enconder utilizará la función de activación sigmoide, para luego experimentar con ReLU, al igual que el decoder. Se usará *adadelta* como método de entrenamiento y *binary crossentropy* como función de pérdida. Para la implementación del AE, se construye la función *simple_AE*, que recibe como parámetro el nivel de compresión deseado y la función de activación del encoder. Como salida, se generan archivos que registran el porcentaje de compresión obtenido y el error de reconstrucción de cada configuración.\n",
    "\n",
    "El enconder estará integrado por d' neuronas, con d' en {2, 8, 32, 64}. Esto quiere decir que el input original, de 784 dimensiones, será comprimido en un vector de d' dimensiones.\n",
    "\n",
    "El decoder en cambio, estára compuesto, naturalmente, por 784 neuronas, pues se busca restaurar la estructura inicial del input recibido."
   ]
  },
  {
   "cell_type": "code",
   "execution_count": 17,
   "metadata": {
    "collapsed": true
   },
   "outputs": [],
   "source": [
    "# Implementación de función simple_AE; d_ : compresión deseada; act_func: función de activación encoder\n",
    "def simple_AE(d_, act_functions):\n",
    "    # Se determina el tipo de input a ser recibido por el AE\n",
    "    input_img = Input(shape=(784,))\n",
    "    # \"encoded\" es la versión codificada del input\n",
    "    encoded = Dense(d_, activation=act_functions[0])(input_img)\n",
    "    # \"decoded\" es la reconstrucción del input codificado\n",
    "    decoded = Dense(784, activation=act_functions[1])(encoded)\n",
    "    # Se genera AE a partir de capas anteriores, el cual mapea un input hacia su reconstrucción\n",
    "    autoencoder = Model(input=input_img, output=decoded)\n",
    "    # Se definen método de entrenamiento y función de pérdida\n",
    "    autoencoder.compile(optimizer='adam', loss='binary_crossentropy')\n",
    "    # Se entrena AE\n",
    "    history = autoencoder.fit(x_train, x_train,\n",
    "              epochs=50,\n",
    "              batch_size=256,\n",
    "              shuffle=True,\n",
    "              verbose=0,\n",
    "              validation_data=(x_val, x_val))\n",
    "    # Se guardan porcentaje de compresión y error de reconstrucción en un archivo\n",
    "    autoencoder.save('basic_autoenconder_784x' + str(d_) + act_functions[0] + '_' + act_functions[1] + '.h5')"
   ]
  },
  {
   "cell_type": "markdown",
   "metadata": {},
   "source": [
    "Así, se procede a generar AE's para d' dimensiones y utilizando la función ReLU y/o sigmoide en el enconder y/o el decoder."
   ]
  },
  {
   "cell_type": "code",
   "execution_count": 18,
   "metadata": {
    "collapsed": true
   },
   "outputs": [],
   "source": [
    "# Valores posibles para la dimensión del input comprimido\n",
    "dimensions = [2, 8, 32, 64]\n",
    "# Funciones de activación posibles\n",
    "activations = [('sigmoid', 'sigmoid'), ('relu', 'sigmoid'), ('sigmoid', 'relu')]"
   ]
  },
  {
   "cell_type": "code",
   "execution_count": 19,
   "metadata": {
    "collapsed": true
   },
   "outputs": [],
   "source": [
    "warnings.filterwarnings('ignore')\n",
    "\n",
    "# Se generan todos los AE's posibles\n",
    "for dimension in dimensions:\n",
    "    for activation in activations:\n",
    "        simple_AE(dimension, activation)"
   ]
  },
  {
   "cell_type": "markdown",
   "metadata": {},
   "source": [
    "Generados los archivos, se procede a leerlos para determinar el rendimiento de cada una de las configuraciones. "
   ]
  },
  {
   "cell_type": "code",
   "execution_count": 32,
   "metadata": {},
   "outputs": [
    {
     "name": "stdout",
     "output_type": "stream",
     "text": [
      "Encoder: sigmoid | Decoder: sigmoid\n",
      "Compresion: 392.0 % | Error de reconstruccion: 0.0737229736328\n",
      "Compresion: 98.0 % | Error de reconstruccion: 0.067766394043\n",
      "Compresion: 24.5 % | Error de reconstruccion: 0.0675822875977\n",
      "Compresion: 12.25 % | Error de reconstruccion: 0.0507129577637\n",
      "\n",
      "\n",
      "Encoder: relu | Decoder: sigmoid\n",
      "Compresion: 392.0 % | Error de reconstruccion: 0.0612447570801\n",
      "Compresion: 98.0 % | Error de reconstruccion: 0.0395691467285\n",
      "Compresion: 24.5 % | Error de reconstruccion: 0.0184399612427\n",
      "Compresion: 12.25 % | Error de reconstruccion: 0.0112643600464\n",
      "\n",
      "\n",
      "Encoder: sigmoid | Decoder: relu\n",
      "Compresion: 392.0 % | Error de reconstruccion: 0.0829909606934\n",
      "Compresion: 98.0 % | Error de reconstruccion: 0.0709848022461\n",
      "Compresion: 24.5 % | Error de reconstruccion: 0.0556106872559\n",
      "Compresion: 12.25 % | Error de reconstruccion: 0.050847668457\n",
      "\n",
      "\n"
     ]
    }
   ],
   "source": [
    "for activation in activations:\n",
    "    print('Encoder: ' + activation[0] + ' | ' + 'Decoder: ' + activation[1])\n",
    "    for dimension in dimensions:\n",
    "        autoencoder = load_model('basic_autoenconder_784x' + str(dimension) + activation[0] + '_' + activation[1] + '.h5')\n",
    "        # Se determina nivel de compresión\n",
    "        compression = 784. / float(dimension)\n",
    "        \n",
    "        # Se determina error de reconstrucción\n",
    "        x_pred = autoencoder.predict(x_test)\n",
    "        m,n = x_test.shape\n",
    "        aux = ((x_test - x_pred) ** 2).sum(axis=1) / n\n",
    "        reconstruction_error = aux.sum() / m\n",
    "        # reconstruction_error = ((x_test - x_pred) ** 2).mean()\n",
    "        \n",
    "        print('Compresion: ' + str(compression) + ' %' + ' | ' + 'Error de reconstruccion: ' + str(reconstruction_error))\n",
    "    print('\\n')"
   ]
  },
  {
   "cell_type": "markdown",
   "metadata": {},
   "source": [
    "En consecuencia, se observa que no es una buena práctica utilizar la función de activación relu en el decoder, pues independiente de la compresión utilizada, el error de reconstrucción es superior o igual al 5%.\n",
    "Por otro lado, los errores más bajos se consiguen al usar relu en el encoder y sigmoide en el decoder, para toda compresión posible.\n",
    "Es importante notar que si la compresión es demasiado alta (es decir, si el input codificado posee una baja dimensionalidad), el error aumenta, como ocurre para d' = 2, dimensión para la que se obtienen los errores más altos, independiente de las funciones de activación utilizadas."
   ]
  },
  {
   "cell_type": "markdown",
   "metadata": {},
   "source": [
    "**3.1.2 Comparando reconstrucciones de imágenes**"
   ]
  },
  {
   "cell_type": "markdown",
   "metadata": {
    "collapsed": true
   },
   "source": [
    "Se desea comparar la \"calidad\" de reconstrucción de los autoencoders implementados en la sección anterior sobre algunas imágenes del conjunto de pruebas. Considerando que al utilizar la función de activación ReLU en el encoder y sigmoide en en el decoder se obtienen los errores de reconstrucción más bajos, se recuperarán los cuatro modelos que hacen uso de esta configuración."
   ]
  },
  {
   "cell_type": "code",
   "execution_count": 8,
   "metadata": {
    "collapsed": true
   },
   "outputs": [],
   "source": [
    "# Se recuperan autoencoders de encoder ReLU y decoder sigmoide, para cada d' posible\n",
    "autoencoder_784x2 = load_model('basic_autoenconder_784x2relu_sigmoid.h5')\n",
    "autoencoder_784x8 = load_model('basic_autoenconder_784x8relu_sigmoid.h5')\n",
    "autoencoder_784x32 = load_model('basic_autoenconder_784x32relu_sigmoid.h5')\n",
    "autoencoder_784x64 = load_model('basic_autoenconder_784x64relu_sigmoid.h5')\n",
    "\n",
    "autoencoders = {}\n",
    "autoencoders['autoencoder_784x2'] = autoencoder_784x2\n",
    "autoencoders['autoencoder_784x8'] = autoencoder_784x8\n",
    "autoencoders['autoencoder_784x32'] = autoencoder_784x32\n",
    "autoencoders['autoencoder_784x64'] = autoencoder_784x64"
   ]
  },
  {
   "cell_type": "markdown",
   "metadata": {},
   "source": [
    "Luego, se continúa con la implementación de forma separada de un encoder y un decoder para cada d' posible. Para ello, se crean las funciones *make_encoder* y *make_autoencoder*, que reciben como parámetro d' y la función de activación deseada, en cada caso."
   ]
  },
  {
   "cell_type": "code",
   "execution_count": 9,
   "metadata": {
    "collapsed": true
   },
   "outputs": [],
   "source": [
    "# Función para creación de encoder\n",
    "def make_encoder(d_, act_function):\n",
    "    input_img = Input(shape=(784,))\n",
    "    encoded = Dense(d_, activation=act_function)(input_img)\n",
    "    # Se define encoder, el cual mapea un input hacia su versión codificada\n",
    "    encoder = Model(input=input_img, outputs=encoded)\n",
    "    return encoder\n",
    "\n",
    "# Función para creación de encoder\n",
    "def make_decoder(d_, act_function, autoencoder):\n",
    "    # encoded_input: Capa que permite la entrada de un input codificado en 32 dimensiones\n",
    "    encoded_input = Input(shape=(d_,))\n",
    "    # Se recupera última capa de autoencoder\n",
    "    decoder_layer = autoencoder.layers[-1]\n",
    "    # Se define decoder, el cual mapea un input comprimido hacia su versión \"original\"\n",
    "    decoder = Model(input=encoded_input, output=decoder_layer(encoded_input))\n",
    "    return decoder"
   ]
  },
  {
   "cell_type": "markdown",
   "metadata": {},
   "source": [
    "Así, para cada d' posible, se estudian diez imágenes del conjunto de pruebas. Por cada una, se comparan su versión original y su reconstrucción. El siguiente código permite que, para cada d', se impriman dos filas de imágenes. La primera de ellas muestra las imágenes originales, mientras que la segunda muestra muestra las reconstrucciones llevadas a cabo por el autoencoder respectivo."
   ]
  },
  {
   "cell_type": "code",
   "execution_count": 22,
   "metadata": {},
   "outputs": [
    {
     "name": "stdout",
     "output_type": "stream",
     "text": [
      "Imagenes para d' = 2\n"
     ]
    },
    {
     "data": {
      "image/png": "[encoded data removed]",
      "text/plain": [
       "<matplotlib.figure.Figure at 0x7fe28962df90>"
      ]
     },
     "metadata": {},
     "output_type": "display_data"
    },
    {
     "name": "stdout",
     "output_type": "stream",
     "text": [
      "Imagenes para d' = 8\n"
     ]
    },
    {
     "data": {
      "image/png": "[encoded data removed]",
      "text/plain": [
       "<matplotlib.figure.Figure at 0x7fe289bb0890>"
      ]
     },
     "metadata": {},
     "output_type": "display_data"
    },
    {
     "name": "stdout",
     "output_type": "stream",
     "text": [
      "Imagenes para d' = 32\n"
     ]
    },
    {
     "data": {
      "image/png": "[encoded data removed]",
      "text/plain": [
       "<matplotlib.figure.Figure at 0x7fe2843580d0>"
      ]
     },
     "metadata": {},
     "output_type": "display_data"
    },
    {
     "name": "stdout",
     "output_type": "stream",
     "text": [
      "Imagenes para d' = 64\n"
     ]
    },
    {
     "data": {
      "image/png": "[encoded data removed]",
      "text/plain": [
       "<matplotlib.figure.Figure at 0x7fe278454290>"
      ]
     },
     "metadata": {},
     "output_type": "display_data"
    }
   ],
   "source": [
    "warnings.filterwarnings('ignore')\n",
    "\n",
    "# Funciones de activación de encoder y decoder\n",
    "encoder_act_function = 'relu'\n",
    "decoder_act_function = 'sigmoid'\n",
    "n = 10 # Cantidad de imágenes a estudiar por cada d'\n",
    "\n",
    "for dimension in dimensions:\n",
    "    \n",
    "    print \"Imagenes para d' = \" + str(dimension)\n",
    "    \n",
    "    autoencoder = autoencoders['autoencoder_784x' + str(dimension)]\n",
    "    decoded_test = autoencoder.predict(x_test)\n",
    "    \n",
    "    plt.figure(figsize=(20, 4))\n",
    "    \n",
    "    for i in range(n):\n",
    "        ax = plt.subplot(2, n, i + 1)\n",
    "        plt.imshow(x_test[i].reshape(28, 28))\n",
    "        plt.gray()\n",
    "        ax.get_xaxis().set_visible(False)\n",
    "        ax.get_yaxis().set_visible(False)\n",
    "        \n",
    "        ax = plt.subplot(2, n, i + 1 + n)\n",
    "        plt.imshow(decoded_test[i].reshape(28, 28))\n",
    "        plt.gray()\n",
    "        ax.get_xaxis().set_visible(False)\n",
    "        ax.get_yaxis().set_visible(False)\n",
    "    \n",
    "    plt.show()"
   ]
  },
  {
   "cell_type": "markdown",
   "metadata": {
    "collapsed": true
   },
   "source": [
    "Las imágenes hablan por si solas: A medida que la cantidad de dimensiones de la nueva representación aumenta, la calidad de las reconstrucciones también lo hace. Esto es consistente con los errores de reconstrucción calculados previamente, ya que estos disminuyeron al aumentar la cantidad de dimensiones de la nueva representación."
   ]
  },
  {
   "cell_type": "markdown",
   "metadata": {},
   "source": [
    "**3.1.3 Clasificación de dígitos por medio de kNN**"
   ]
  },
  {
   "cell_type": "markdown",
   "metadata": {},
   "source": [
    "Con el fin de determinar la calidad de la compresión realizada por un autoencoder, se implementará un clasificador kNN para posteriormente evaluarlo sobre el conjunto de pruebas. En primer lugar, dicho clasificador es entrenado a partir de los ejemplos originales contenidos en el conjunto de entrenamiento (sin compresión) para efectos comparativos. Para el modelo, se utilizará k = 10."
   ]
  },
  {
   "cell_type": "code",
   "execution_count": 4,
   "metadata": {},
   "outputs": [
    {
     "data": {
      "text/plain": [
       "KNeighborsClassifier(algorithm='auto', leaf_size=30, metric='minkowski',\n",
       "           metric_params=None, n_jobs=1, n_neighbors=10, p=2,\n",
       "           weights='uniform')"
      ]
     },
     "execution_count": 4,
     "metadata": {},
     "output_type": "execute_result"
    }
   ],
   "source": [
    "# Se crea clasificador kNN, con k = 10\n",
    "clf_original = KNeighborsClassifier(10)\n",
    "# Se entrena clasificador a partir de ejemplos sin compresión\n",
    "clf_original.fit(x_train, y_train)"
   ]
  },
  {
   "cell_type": "markdown",
   "metadata": {},
   "source": [
    "A continuación, se determina el error que se obtiene al evaluar el modelo sobre el conjunto de pruebas, junto con el tiempo medio necesario para la clase de ejemplo perteneciente a este set de datos."
   ]
  },
  {
   "cell_type": "code",
   "execution_count": 7,
   "metadata": {},
   "outputs": [
    {
     "name": "stdout",
     "output_type": "stream",
     "text": [
      "Error de clasificacion sobre conjunto de pruebas luego de entrenar sobre ejemplos sin compresion:  7.49  %\n",
      "Tiempo medio de prediccion:  0.0237389283895 [s]\n"
     ]
    }
   ],
   "source": [
    "t_i = time.time()\n",
    "print 'Error de clasificacion sobre conjunto de pruebas luego de entrenar sobre ejemplos sin compresion: ', \\\n",
    "    (1 - clf_original.score(x_test, y_test)) * 100, ' %'\n",
    "t_f = time.time()\n",
    "print 'Tiempo medio de prediccion: ', (t_f - t_i) / len(x_test), '[s]'"
   ]
  },
  {
   "cell_type": "markdown",
   "metadata": {},
   "source": [
    "Se observa entonces que el error de clasificación es de un 7,49%, mientras que el tiempo medio de predicción fue de 0,024 [s] por ejemplo, durando 240 [s] el proceso completo.\n",
    "\n",
    "Con estas métricas en mente, se procede a implementar otro clasificador kNN, nuevamente con k = 10, pero entrenándolo a partir de los ejemplos comprimidos. Se utilizará una compresión d' = 2, 4, 8, 16, 32, y funciones de activación ReLU y sigmoide para el encoder y el decoder, respectivamente, dados los buenos resultados obtenidos para este modelo en las secciones previas.\n",
    "\n",
    "Se implementará, además, un enconder por separado, para cada d' posible, pues en este punto no se requiere utilizar un decoder."
   ]
  },
  {
   "cell_type": "code",
   "execution_count": 8,
   "metadata": {},
   "outputs": [
    {
     "name": "stdout",
     "output_type": "stream",
     "text": [
      "d' =  2\n",
      "Error de clasificacion sobre conjunto de pruebas:  82.26  %\n",
      "Tiempo medio de prediccion:  1.09549045563e-05 [s]\n",
      "\n",
      "d' =  4\n",
      "Error de clasificacion sobre conjunto de pruebas:  72.67  %\n",
      "Tiempo medio de prediccion:  9.47258472443e-06 [s]\n",
      "\n",
      "d' =  8\n",
      "Error de clasificacion sobre conjunto de pruebas:  55.56  %\n",
      "Tiempo medio de prediccion:  3.13601016998e-05 [s]\n",
      "\n",
      "d' =  16\n",
      "Error de clasificacion sobre conjunto de pruebas:  43.18  %\n",
      "Tiempo medio de prediccion:  0.00010530591011 [s]\n",
      "\n",
      "d' =  32\n",
      "Error de clasificacion sobre conjunto de pruebas:  25.25  %\n",
      "Tiempo medio de prediccion:  0.000315763020515 [s]\n",
      "\n",
      "d' =  64\n",
      "Error de clasificacion sobre conjunto de pruebas:  16.13  %\n",
      "Tiempo medio de prediccion:  0.000719285702705 [s]\n",
      "\n"
     ]
    }
   ],
   "source": [
    "warnings.filterwarnings('ignore')\n",
    "input_img = Input(shape=(784, ))\n",
    "\n",
    "for dimension in [2, 4, 8, 16, 32, 64]:\n",
    "    \n",
    "    print \"d' = \", dimension\n",
    "    \n",
    "    # Se implementa encoder por separado\n",
    "    encoded = Dense(dimension, activation='relu')(input_img)\n",
    "    encoder = Model(input_img, output=encoded)\n",
    "    encoded_train = encoder.predict(x_train)\n",
    "    encoded_test = encoder.predict(x_test)\n",
    "    \n",
    "    # Se crea clasificador kNN, con k = 10\n",
    "    clf_compressed = KNeighborsClassifier(10)\n",
    "    # Se entrena clasificador a partir de ejemplos comprimidos\n",
    "    clf_compressed.fit(encoded_train, y_train)\n",
    "    \n",
    "    t_i = time.time()\n",
    "    print \"Error de clasificacion sobre conjunto de pruebas: \", \\\n",
    "    (1 - clf_compressed.score(encoded_test, y_test)) * 100, ' %'\n",
    "    t_f = time.time()\n",
    "    print 'Tiempo medio de prediccion: ', (t_f - t_i) / len(x_test), '[s]\\n'"
   ]
  },
  {
   "cell_type": "markdown",
   "metadata": {},
   "source": [
    "Se observa como, al aumentar la compresión, el error de clasificación disminuye, al igual que el tiempo promedio de clasificación.\n",
    "\n",
    "Desafortunadamente, el error más bajo obtenido al comprimir los datos (para d' = 64), es de un 16,13%, ósea, es superior en un 8,64% al error obtenido sobre los datos sin compresión. Sin embargo, el tiempo promedio de clasificación disminuye notablemente a 0,0007 [s] por ejemplo, lo que en suma entrega un tiempo total de predicción de 7 [s].\n",
    "\n",
    "Ante esta situación, se puede decir que efectivamente la comprensión permitió la predicción de las clases de cada ejemplo de forma mucho más eficiente en términos de tiempo, pero resultan ser compresiones quizás demasiado altas como para que el modelo sea capaz de generar buenas predicciones a partir de los ejemplos modificados."
   ]
  },
  {
   "cell_type": "markdown",
   "metadata": {},
   "source": [
    "**3.1.4 Comparación de efectos de reducción de dimensionalidad con PCA**"
   ]
  },
  {
   "cell_type": "markdown",
   "metadata": {},
   "source": [
    "En esta sección, los ejemplos serán comprimidos por medio de la técnica de reducción de dimensionalidad PCA. Luego, se realizarán predicciones y los resultados serán comparados con aquellos obtenidos al reducir la dimensionalidad de los datos por medio de autoencoders. Como métricas de comparación, se considerarán el error de reducción y el error de clasificación por medio de kNN."
   ]
  },
  {
   "cell_type": "code",
   "execution_count": 14,
   "metadata": {
    "scrolled": true
   },
   "outputs": [
    {
     "name": "stdout",
     "output_type": "stream",
     "text": [
      "d' =  2\n",
      "Error de reconstruccion:  0.0555464589765\n",
      "Error de clasificacion sobre conjunto de pruebas:  56.1  %\n",
      "\n",
      "d' =  4\n",
      "Error de reconstruccion:  0.0478027744412\n",
      "Error de clasificacion sobre conjunto de pruebas:  34.5  %\n",
      "\n",
      "d' =  8\n",
      "Error de reconstruccion:  0.0374364073754\n",
      "Error de clasificacion sobre conjunto de pruebas:  12.39  %\n",
      "\n",
      "d' =  16\n",
      "Error de reconstruccion:  0.026818733527\n",
      "Error de clasificacion sobre conjunto de pruebas:  6.67  %\n",
      "\n",
      "d' =  32\n",
      "Error de reconstruccion:  0.0168441006868\n",
      "Error de clasificacion sobre conjunto de pruebas:  5.76  %\n",
      "\n",
      "d' =  64\n",
      "Error de reconstruccion:  0.00897680423945\n",
      "Error de clasificacion sobre conjunto de pruebas:  6.23  %\n",
      "\n"
     ]
    }
   ],
   "source": [
    "warnings.filterwarnings('ignore')\n",
    "\n",
    "for dimension in [2, 4, 8, 16, 32, 64]:\n",
    "    \n",
    "    print \"d' = \", dimension\n",
    "    \n",
    "    # Se define nivel de compresión, vía PCA\n",
    "    pca = PCA(n_components=dimension)\n",
    "    \n",
    "    # Se realiza reducción de dimensionalidad para conjuntos de entrenamiento y de prueba\n",
    "    pca.fit(x_train)\n",
    "    pca_train = pca.transform(x_train)\n",
    "    pca_test = pca.transform(x_test)\n",
    "    \n",
    "    # Se determina error de reconstrucción\n",
    "    #Primero, se estiman las componentes\n",
    "    U, S, VT = np.linalg.svd(x_test - x_test.mean(0))\n",
    "    # Después, se calculan las cargas\n",
    "    pca_train_2 = (x_test - pca.mean_).dot(pca.components_.T)\n",
    "    # Luego, se obtienen las proyecciones sobre las componentes principales\n",
    "    x_projected = pca.inverse_transform(pca_test)\n",
    "    x_projected_2 = pca_test.dot(pca.components_) +pca.mean_\n",
    "    # Finalmente, se calcula error de reconstrucción\n",
    "    reconstruction_error = ((x_test - x_projected) ** 2).mean()\n",
    "    \n",
    "    # Se crea clasificador kNN, con k = 10\n",
    "    clf_pca = KNeighborsClassifier(10)\n",
    "    # Se entrena clasificador a partir de ejemplos comprimidos\n",
    "    clf_pca.fit(pca_train, y_train)\n",
    "    \n",
    "    print \"Error de reconstruccion: \", reconstruction_error\n",
    "    print \"Error de clasificacion sobre conjunto de pruebas: \", \\\n",
    "    (1 - clf_pca.score(pca_test, y_test)) * 100, ' %\\n'"
   ]
  },
  {
   "cell_type": "markdown",
   "metadata": {},
   "source": [
    "En general, los errores de reconstrucción obtenidos son más bajos que los de los autoencoders, independiente del nivel de compresión empleado. Por otra parte, los errores de clasificación son considerablemente más bajos. Por ejemplo, para d' = 2, el error de clasificación obtenido a partir del uso de un autoencoder es de un 82,26%, mientras que con PCA el error es un 34,5%. Para ambos reductores de dimensionalidad, el error de clasificación más bajo es conseguido con d' = 64, pero para el autoencoder es de un 16,13%, mientras que para PCA es de un 6,23%."
   ]
  },
  {
   "cell_type": "markdown",
   "metadata": {},
   "source": [
    "**3.1.5 Implementación de *deep autoencoder* (deep AE)**"
   ]
  },
  {
   "cell_type": "code",
   "execution_count": null,
   "metadata": {
    "collapsed": true
   },
   "outputs": [],
   "source": []
  }
 ],
 "metadata": {
  "kernelspec": {
   "display_name": "Python 2",
   "language": "python",
   "name": "python2"
  },
  "language_info": {
   "codemirror_mode": {
    "name": "ipython",
    "version": 2
   },
   "file_extension": ".py",
   "mimetype": "text/x-python",
   "name": "python",
   "nbconvert_exporter": "python",
   "pygments_lexer": "ipython2",
   "version": "2.7.12"
  }
 },
 "nbformat": 4,
 "nbformat_minor": 2
}
